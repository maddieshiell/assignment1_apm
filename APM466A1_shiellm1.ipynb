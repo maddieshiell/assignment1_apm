{
  "nbformat": 4,
  "nbformat_minor": 0,
  "metadata": {
    "colab": {
      "name": "APM466A1_shiellm1.ipynb",
      "provenance": [],
      "authorship_tag": "ABX9TyP9L7qcFGvgx5otiUSRsvQM",
      "include_colab_link": true
    },
    "kernelspec": {
      "name": "python3",
      "display_name": "Python 3"
    }
  },
  "cells": [
    {
      "cell_type": "markdown",
      "metadata": {
        "id": "view-in-github",
        "colab_type": "text"
      },
      "source": [
        "<a href=\"https://colab.research.google.com/github/maddieshiell/assignment1apm/blob/main/APM466A1_shiellm1.ipynb\" target=\"_parent\"><img src=\"https://colab.research.google.com/assets/colab-badge.svg\" alt=\"Open In Colab\"/></a>"
      ]
    },
    {
      "cell_type": "markdown",
      "metadata": {
        "id": "VqHzvOnEBjGw"
      },
      "source": [
        "APM466 Assignment 1 \n",
        "\n",
        "\n",
        "Due: February 8, 2021"
      ]
    },
    {
      "cell_type": "code",
      "metadata": {
        "id": "ByQOBO1NCJ98"
      },
      "source": [
        "!pip install bond-pricing"
      ],
      "execution_count": null,
      "outputs": []
    },
    {
      "cell_type": "code",
      "metadata": {
        "id": "DrG6jRkmCMgG"
      },
      "source": [
        "import bond_pricing"
      ],
      "execution_count": null,
      "outputs": []
    },
    {
      "cell_type": "code",
      "metadata": {
        "id": "YrVyE50hBtoO"
      },
      "source": [
        "# Importing packages\n",
        "import numpy as np\n",
        "import pandas as pd\n",
        "import math\n",
        "import seaborn as sns \n",
        "import matplotlib.pyplot as plt\n",
        "import datetime\n",
        "import scipy.optimize as optimize\n",
        "from scipy.interpolate import interp1d\n",
        "from numpy import linalg as LA"
      ],
      "execution_count": 52,
      "outputs": []
    },
    {
      "cell_type": "code",
      "metadata": {
        "colab": {
          "base_uri": "https://localhost:8080/",
          "height": 377
        },
        "id": "jEweCzEtCESV",
        "outputId": "53d8db92-78f3-4beb-9263-c0605841e65f"
      },
      "source": [
        "# Import data collected from https://markets.businessinsider.com/\n",
        "url = 'https://raw.githubusercontent.com/maddieshiell/assignment1_apm/main/APMDataA1_2.csv'\n",
        "df_data = pd.read_csv(url)\n",
        "df_data.head()  # Print a sample of the data"
      ],
      "execution_count": 5,
      "outputs": [
        {
          "output_type": "execute_result",
          "data": {
            "text/html": [
              "<div>\n",
              "<style scoped>\n",
              "    .dataframe tbody tr th:only-of-type {\n",
              "        vertical-align: middle;\n",
              "    }\n",
              "\n",
              "    .dataframe tbody tr th {\n",
              "        vertical-align: top;\n",
              "    }\n",
              "\n",
              "    .dataframe thead th {\n",
              "        text-align: right;\n",
              "    }\n",
              "</style>\n",
              "<table border=\"1\" class=\"dataframe\">\n",
              "  <thead>\n",
              "    <tr style=\"text-align: right;\">\n",
              "      <th></th>\n",
              "      <th>Bond_Name</th>\n",
              "      <th>ISIN</th>\n",
              "      <th>Issue_Date</th>\n",
              "      <th>Maturity_Date</th>\n",
              "      <th>Coupon</th>\n",
              "      <th>18-Jan</th>\n",
              "      <th>19-Jan</th>\n",
              "      <th>20-Jan</th>\n",
              "      <th>21-Jan</th>\n",
              "      <th>22-Jan</th>\n",
              "      <th>25-Jan</th>\n",
              "      <th>26-Jan</th>\n",
              "      <th>27-Jan</th>\n",
              "      <th>28-Jan</th>\n",
              "      <th>29-Jan</th>\n",
              "      <th>Unnamed: 15</th>\n",
              "      <th>Unnamed: 16</th>\n",
              "      <th>Unnamed: 17</th>\n",
              "      <th>Unnamed: 18</th>\n",
              "    </tr>\n",
              "  </thead>\n",
              "  <tbody>\n",
              "    <tr>\n",
              "      <th>0</th>\n",
              "      <td>CAN 2.25 Feb 1 2021</td>\n",
              "      <td>CA135087J629</td>\n",
              "      <td>2018-11-09</td>\n",
              "      <td>2021-02-01</td>\n",
              "      <td>0.0225</td>\n",
              "      <td>100.06</td>\n",
              "      <td>100.06</td>\n",
              "      <td>100.05</td>\n",
              "      <td>100.03</td>\n",
              "      <td>100.03</td>\n",
              "      <td>100.02</td>\n",
              "      <td>100.02</td>\n",
              "      <td>100.01</td>\n",
              "      <td>0.00</td>\n",
              "      <td>0.00</td>\n",
              "      <td>NaN</td>\n",
              "      <td>NaN</td>\n",
              "      <td>NaN</td>\n",
              "      <td>NaN</td>\n",
              "    </tr>\n",
              "    <tr>\n",
              "      <th>1</th>\n",
              "      <td>CAN 0.75 March 1 2021</td>\n",
              "      <td>CA135087F254</td>\n",
              "      <td>2015-10-19</td>\n",
              "      <td>2021-03-01</td>\n",
              "      <td>0.0075</td>\n",
              "      <td>100.08</td>\n",
              "      <td>100.08</td>\n",
              "      <td>100.08</td>\n",
              "      <td>100.07</td>\n",
              "      <td>100.07</td>\n",
              "      <td>100.06</td>\n",
              "      <td>100.06</td>\n",
              "      <td>100.06</td>\n",
              "      <td>100.06</td>\n",
              "      <td>100.06</td>\n",
              "      <td>NaN</td>\n",
              "      <td>NaN</td>\n",
              "      <td>NaN</td>\n",
              "      <td>NaN</td>\n",
              "    </tr>\n",
              "    <tr>\n",
              "      <th>2</th>\n",
              "      <td>CAN 10.5 March 15 2021</td>\n",
              "      <td>CA135087TZ75</td>\n",
              "      <td>1990-12-15</td>\n",
              "      <td>2021-03-15</td>\n",
              "      <td>0.1050</td>\n",
              "      <td>101.58</td>\n",
              "      <td>101.55</td>\n",
              "      <td>101.52</td>\n",
              "      <td>101.44</td>\n",
              "      <td>101.41</td>\n",
              "      <td>101.38</td>\n",
              "      <td>101.35</td>\n",
              "      <td>101.32</td>\n",
              "      <td>101.24</td>\n",
              "      <td>101.21</td>\n",
              "      <td>NaN</td>\n",
              "      <td>NaN</td>\n",
              "      <td>NaN</td>\n",
              "      <td>NaN</td>\n",
              "    </tr>\n",
              "    <tr>\n",
              "      <th>3</th>\n",
              "      <td>CAN 1.75 May 1 2021</td>\n",
              "      <td>CA135087J884</td>\n",
              "      <td>2019-02-11</td>\n",
              "      <td>2021-05-01</td>\n",
              "      <td>0.0175</td>\n",
              "      <td>100.48</td>\n",
              "      <td>100.47</td>\n",
              "      <td>100.46</td>\n",
              "      <td>100.45</td>\n",
              "      <td>100.44</td>\n",
              "      <td>100.44</td>\n",
              "      <td>100.43</td>\n",
              "      <td>100.43</td>\n",
              "      <td>100.42</td>\n",
              "      <td>100.41</td>\n",
              "      <td>NaN</td>\n",
              "      <td>NaN</td>\n",
              "      <td>NaN</td>\n",
              "      <td>NaN</td>\n",
              "    </tr>\n",
              "    <tr>\n",
              "      <th>4</th>\n",
              "      <td>CAN 9.75 June 1 2021</td>\n",
              "      <td>CA135087UE28</td>\n",
              "      <td>1991-05-09</td>\n",
              "      <td>2021-06-01</td>\n",
              "      <td>0.0975</td>\n",
              "      <td>103.50</td>\n",
              "      <td>103.48</td>\n",
              "      <td>103.44</td>\n",
              "      <td>103.36</td>\n",
              "      <td>103.34</td>\n",
              "      <td>103.31</td>\n",
              "      <td>103.28</td>\n",
              "      <td>103.26</td>\n",
              "      <td>103.18</td>\n",
              "      <td>103.15</td>\n",
              "      <td>NaN</td>\n",
              "      <td>NaN</td>\n",
              "      <td>NaN</td>\n",
              "      <td>NaN</td>\n",
              "    </tr>\n",
              "  </tbody>\n",
              "</table>\n",
              "</div>"
            ],
            "text/plain": [
              "                Bond_Name          ISIN  ... Unnamed: 17 Unnamed: 18\n",
              "0     CAN 2.25 Feb 1 2021  CA135087J629  ...         NaN         NaN\n",
              "1   CAN 0.75 March 1 2021  CA135087F254  ...         NaN         NaN\n",
              "2  CAN 10.5 March 15 2021  CA135087TZ75  ...         NaN         NaN\n",
              "3     CAN 1.75 May 1 2021  CA135087J884  ...         NaN         NaN\n",
              "4    CAN 9.75 June 1 2021  CA135087UE28  ...         NaN         NaN\n",
              "\n",
              "[5 rows x 19 columns]"
            ]
          },
          "metadata": {
            "tags": []
          },
          "execution_count": 5
        }
      ]
    },
    {
      "cell_type": "code",
      "metadata": {
        "colab": {
          "base_uri": "https://localhost:8080/"
        },
        "id": "Cn46P92z04Xa",
        "outputId": "7a796ac0-daa5-45bf-95c8-dd2b522ee16e"
      },
      "source": [
        "df_data.shape"
      ],
      "execution_count": 6,
      "outputs": [
        {
          "output_type": "execute_result",
          "data": {
            "text/plain": [
              "(42, 19)"
            ]
          },
          "metadata": {
            "tags": []
          },
          "execution_count": 6
        }
      ]
    },
    {
      "cell_type": "code",
      "metadata": {
        "colab": {
          "base_uri": "https://localhost:8080/",
          "height": 204
        },
        "id": "D7zvtBGm1tM3",
        "outputId": "05b03aca-74c2-461f-9302-5bf0c16ee506"
      },
      "source": [
        "columns_to_drop = ['Unnamed: 15','Unnamed: 16', 'Unnamed: 17', 'Unnamed: 18']\n",
        "df_data = df_data.drop(columns=columns_to_drop)\n",
        "df_data.head()"
      ],
      "execution_count": 7,
      "outputs": [
        {
          "output_type": "execute_result",
          "data": {
            "text/html": [
              "<div>\n",
              "<style scoped>\n",
              "    .dataframe tbody tr th:only-of-type {\n",
              "        vertical-align: middle;\n",
              "    }\n",
              "\n",
              "    .dataframe tbody tr th {\n",
              "        vertical-align: top;\n",
              "    }\n",
              "\n",
              "    .dataframe thead th {\n",
              "        text-align: right;\n",
              "    }\n",
              "</style>\n",
              "<table border=\"1\" class=\"dataframe\">\n",
              "  <thead>\n",
              "    <tr style=\"text-align: right;\">\n",
              "      <th></th>\n",
              "      <th>Bond_Name</th>\n",
              "      <th>ISIN</th>\n",
              "      <th>Issue_Date</th>\n",
              "      <th>Maturity_Date</th>\n",
              "      <th>Coupon</th>\n",
              "      <th>18-Jan</th>\n",
              "      <th>19-Jan</th>\n",
              "      <th>20-Jan</th>\n",
              "      <th>21-Jan</th>\n",
              "      <th>22-Jan</th>\n",
              "      <th>25-Jan</th>\n",
              "      <th>26-Jan</th>\n",
              "      <th>27-Jan</th>\n",
              "      <th>28-Jan</th>\n",
              "      <th>29-Jan</th>\n",
              "    </tr>\n",
              "  </thead>\n",
              "  <tbody>\n",
              "    <tr>\n",
              "      <th>0</th>\n",
              "      <td>CAN 2.25 Feb 1 2021</td>\n",
              "      <td>CA135087J629</td>\n",
              "      <td>2018-11-09</td>\n",
              "      <td>2021-02-01</td>\n",
              "      <td>0.0225</td>\n",
              "      <td>100.06</td>\n",
              "      <td>100.06</td>\n",
              "      <td>100.05</td>\n",
              "      <td>100.03</td>\n",
              "      <td>100.03</td>\n",
              "      <td>100.02</td>\n",
              "      <td>100.02</td>\n",
              "      <td>100.01</td>\n",
              "      <td>0.00</td>\n",
              "      <td>0.00</td>\n",
              "    </tr>\n",
              "    <tr>\n",
              "      <th>1</th>\n",
              "      <td>CAN 0.75 March 1 2021</td>\n",
              "      <td>CA135087F254</td>\n",
              "      <td>2015-10-19</td>\n",
              "      <td>2021-03-01</td>\n",
              "      <td>0.0075</td>\n",
              "      <td>100.08</td>\n",
              "      <td>100.08</td>\n",
              "      <td>100.08</td>\n",
              "      <td>100.07</td>\n",
              "      <td>100.07</td>\n",
              "      <td>100.06</td>\n",
              "      <td>100.06</td>\n",
              "      <td>100.06</td>\n",
              "      <td>100.06</td>\n",
              "      <td>100.06</td>\n",
              "    </tr>\n",
              "    <tr>\n",
              "      <th>2</th>\n",
              "      <td>CAN 10.5 March 15 2021</td>\n",
              "      <td>CA135087TZ75</td>\n",
              "      <td>1990-12-15</td>\n",
              "      <td>2021-03-15</td>\n",
              "      <td>0.1050</td>\n",
              "      <td>101.58</td>\n",
              "      <td>101.55</td>\n",
              "      <td>101.52</td>\n",
              "      <td>101.44</td>\n",
              "      <td>101.41</td>\n",
              "      <td>101.38</td>\n",
              "      <td>101.35</td>\n",
              "      <td>101.32</td>\n",
              "      <td>101.24</td>\n",
              "      <td>101.21</td>\n",
              "    </tr>\n",
              "    <tr>\n",
              "      <th>3</th>\n",
              "      <td>CAN 1.75 May 1 2021</td>\n",
              "      <td>CA135087J884</td>\n",
              "      <td>2019-02-11</td>\n",
              "      <td>2021-05-01</td>\n",
              "      <td>0.0175</td>\n",
              "      <td>100.48</td>\n",
              "      <td>100.47</td>\n",
              "      <td>100.46</td>\n",
              "      <td>100.45</td>\n",
              "      <td>100.44</td>\n",
              "      <td>100.44</td>\n",
              "      <td>100.43</td>\n",
              "      <td>100.43</td>\n",
              "      <td>100.42</td>\n",
              "      <td>100.41</td>\n",
              "    </tr>\n",
              "    <tr>\n",
              "      <th>4</th>\n",
              "      <td>CAN 9.75 June 1 2021</td>\n",
              "      <td>CA135087UE28</td>\n",
              "      <td>1991-05-09</td>\n",
              "      <td>2021-06-01</td>\n",
              "      <td>0.0975</td>\n",
              "      <td>103.50</td>\n",
              "      <td>103.48</td>\n",
              "      <td>103.44</td>\n",
              "      <td>103.36</td>\n",
              "      <td>103.34</td>\n",
              "      <td>103.31</td>\n",
              "      <td>103.28</td>\n",
              "      <td>103.26</td>\n",
              "      <td>103.18</td>\n",
              "      <td>103.15</td>\n",
              "    </tr>\n",
              "  </tbody>\n",
              "</table>\n",
              "</div>"
            ],
            "text/plain": [
              "                Bond_Name          ISIN  Issue_Date  ...  27-Jan  28-Jan  29-Jan\n",
              "0     CAN 2.25 Feb 1 2021  CA135087J629  2018-11-09  ...  100.01    0.00    0.00\n",
              "1   CAN 0.75 March 1 2021  CA135087F254  2015-10-19  ...  100.06  100.06  100.06\n",
              "2  CAN 10.5 March 15 2021  CA135087TZ75  1990-12-15  ...  101.32  101.24  101.21\n",
              "3     CAN 1.75 May 1 2021  CA135087J884  2019-02-11  ...  100.43  100.42  100.41\n",
              "4    CAN 9.75 June 1 2021  CA135087UE28  1991-05-09  ...  103.26  103.18  103.15\n",
              "\n",
              "[5 rows x 15 columns]"
            ]
          },
          "metadata": {
            "tags": []
          },
          "execution_count": 7
        }
      ]
    },
    {
      "cell_type": "code",
      "metadata": {
        "id": "0c_bnxo02FCl"
      },
      "source": [
        "df_data = df_data[:36]"
      ],
      "execution_count": 8,
      "outputs": []
    },
    {
      "cell_type": "code",
      "metadata": {
        "colab": {
          "base_uri": "https://localhost:8080/",
          "height": 204
        },
        "id": "LalYUL1F2S4X",
        "outputId": "0273e0df-d2c5-4a2b-cea0-b8721ffe44ca"
      },
      "source": [
        "df_data.tail()"
      ],
      "execution_count": 9,
      "outputs": [
        {
          "output_type": "execute_result",
          "data": {
            "text/html": [
              "<div>\n",
              "<style scoped>\n",
              "    .dataframe tbody tr th:only-of-type {\n",
              "        vertical-align: middle;\n",
              "    }\n",
              "\n",
              "    .dataframe tbody tr th {\n",
              "        vertical-align: top;\n",
              "    }\n",
              "\n",
              "    .dataframe thead th {\n",
              "        text-align: right;\n",
              "    }\n",
              "</style>\n",
              "<table border=\"1\" class=\"dataframe\">\n",
              "  <thead>\n",
              "    <tr style=\"text-align: right;\">\n",
              "      <th></th>\n",
              "      <th>Bond_Name</th>\n",
              "      <th>ISIN</th>\n",
              "      <th>Issue_Date</th>\n",
              "      <th>Maturity_Date</th>\n",
              "      <th>Coupon</th>\n",
              "      <th>18-Jan</th>\n",
              "      <th>19-Jan</th>\n",
              "      <th>20-Jan</th>\n",
              "      <th>21-Jan</th>\n",
              "      <th>22-Jan</th>\n",
              "      <th>25-Jan</th>\n",
              "      <th>26-Jan</th>\n",
              "      <th>27-Jan</th>\n",
              "      <th>28-Jan</th>\n",
              "      <th>29-Jan</th>\n",
              "    </tr>\n",
              "  </thead>\n",
              "  <tbody>\n",
              "    <tr>\n",
              "      <th>31</th>\n",
              "      <td>CAN 8 June 1 2027</td>\n",
              "      <td>CA135087VW17</td>\n",
              "      <td>1996-05-01</td>\n",
              "      <td>2027-06-01</td>\n",
              "      <td>0.0800</td>\n",
              "      <td>146.60</td>\n",
              "      <td>146.57</td>\n",
              "      <td>146.46</td>\n",
              "      <td>146.21</td>\n",
              "      <td>146.28</td>\n",
              "      <td>146.48</td>\n",
              "      <td>146.37</td>\n",
              "      <td>146.49</td>\n",
              "      <td>146.30</td>\n",
              "      <td>146.21</td>\n",
              "    </tr>\n",
              "    <tr>\n",
              "      <th>32</th>\n",
              "      <td>CAN 2 June 1 2028</td>\n",
              "      <td>CA135087H235</td>\n",
              "      <td>2017-08-01</td>\n",
              "      <td>2028-06-01</td>\n",
              "      <td>0.0200</td>\n",
              "      <td>109.97</td>\n",
              "      <td>110.06</td>\n",
              "      <td>109.94</td>\n",
              "      <td>109.65</td>\n",
              "      <td>109.70</td>\n",
              "      <td>110.03</td>\n",
              "      <td>109.92</td>\n",
              "      <td>110.07</td>\n",
              "      <td>109.91</td>\n",
              "      <td>109.82</td>\n",
              "    </tr>\n",
              "    <tr>\n",
              "      <th>33</th>\n",
              "      <td>CAN 2.25 June 1 2029</td>\n",
              "      <td>CA135087J397</td>\n",
              "      <td>2018-07-27</td>\n",
              "      <td>2029-06-01</td>\n",
              "      <td>0.0225</td>\n",
              "      <td>112.59</td>\n",
              "      <td>112.61</td>\n",
              "      <td>112.43</td>\n",
              "      <td>112.11</td>\n",
              "      <td>112.27</td>\n",
              "      <td>112.62</td>\n",
              "      <td>112.50</td>\n",
              "      <td>112.70</td>\n",
              "      <td>112.49</td>\n",
              "      <td>112.41</td>\n",
              "    </tr>\n",
              "    <tr>\n",
              "      <th>34</th>\n",
              "      <td>CAN 5.75 June 1 2029</td>\n",
              "      <td>CA135087WL43</td>\n",
              "      <td>1998-02-02</td>\n",
              "      <td>2029-06-01</td>\n",
              "      <td>0.0575</td>\n",
              "      <td>140.81</td>\n",
              "      <td>140.83</td>\n",
              "      <td>140.61</td>\n",
              "      <td>140.24</td>\n",
              "      <td>140.39</td>\n",
              "      <td>140.78</td>\n",
              "      <td>140.66</td>\n",
              "      <td>140.86</td>\n",
              "      <td>140.60</td>\n",
              "      <td>140.50</td>\n",
              "    </tr>\n",
              "    <tr>\n",
              "      <th>35</th>\n",
              "      <td>CAN 0.5 Dec 1 2030</td>\n",
              "      <td>CA135087L443</td>\n",
              "      <td>2020-10-05</td>\n",
              "      <td>2030-12-01</td>\n",
              "      <td>0.0050</td>\n",
              "      <td>96.52</td>\n",
              "      <td>96.54</td>\n",
              "      <td>96.32</td>\n",
              "      <td>95.97</td>\n",
              "      <td>96.14</td>\n",
              "      <td>96.52</td>\n",
              "      <td>96.38</td>\n",
              "      <td>96.61</td>\n",
              "      <td>96.44</td>\n",
              "      <td>96.37</td>\n",
              "    </tr>\n",
              "  </tbody>\n",
              "</table>\n",
              "</div>"
            ],
            "text/plain": [
              "               Bond_Name          ISIN  Issue_Date  ...  27-Jan  28-Jan  29-Jan\n",
              "31     CAN 8 June 1 2027  CA135087VW17  1996-05-01  ...  146.49  146.30  146.21\n",
              "32     CAN 2 June 1 2028  CA135087H235  2017-08-01  ...  110.07  109.91  109.82\n",
              "33  CAN 2.25 June 1 2029  CA135087J397  2018-07-27  ...  112.70  112.49  112.41\n",
              "34  CAN 5.75 June 1 2029  CA135087WL43  1998-02-02  ...  140.86  140.60  140.50\n",
              "35    CAN 0.5 Dec 1 2030  CA135087L443  2020-10-05  ...   96.61   96.44   96.37\n",
              "\n",
              "[5 rows x 15 columns]"
            ]
          },
          "metadata": {
            "tags": []
          },
          "execution_count": 9
        }
      ]
    },
    {
      "cell_type": "code",
      "metadata": {
        "id": "4tmkYcVz2Zlt"
      },
      "source": [
        "end_date = datetime.datetime(2021,2,1)"
      ],
      "execution_count": 10,
      "outputs": []
    },
    {
      "cell_type": "code",
      "metadata": {
        "colab": {
          "base_uri": "https://localhost:8080/",
          "height": 668
        },
        "id": "z1UGc4x34XlE",
        "outputId": "c3d97927-46ac-49fb-8225-a127fb474e3a"
      },
      "source": [
        "df"
      ],
      "execution_count": 60,
      "outputs": [
        {
          "output_type": "execute_result",
          "data": {
            "text/html": [
              "<div>\n",
              "<style scoped>\n",
              "    .dataframe tbody tr th:only-of-type {\n",
              "        vertical-align: middle;\n",
              "    }\n",
              "\n",
              "    .dataframe tbody tr th {\n",
              "        vertical-align: top;\n",
              "    }\n",
              "\n",
              "    .dataframe thead th {\n",
              "        text-align: right;\n",
              "    }\n",
              "</style>\n",
              "<table border=\"1\" class=\"dataframe\">\n",
              "  <thead>\n",
              "    <tr style=\"text-align: right;\">\n",
              "      <th></th>\n",
              "      <th>index</th>\n",
              "      <th>Bond_Name</th>\n",
              "      <th>ISIN</th>\n",
              "      <th>Issue_Date</th>\n",
              "      <th>Maturity_Date</th>\n",
              "      <th>Coupon</th>\n",
              "      <th>18-Jan</th>\n",
              "      <th>19-Jan</th>\n",
              "      <th>20-Jan</th>\n",
              "      <th>21-Jan</th>\n",
              "      <th>22-Jan</th>\n",
              "      <th>25-Jan</th>\n",
              "      <th>26-Jan</th>\n",
              "      <th>27-Jan</th>\n",
              "      <th>28-Jan</th>\n",
              "      <th>29-Jan</th>\n",
              "      <th>num_months</th>\n",
              "      <th>ytm18-Jan</th>\n",
              "      <th>ytm19-Jan</th>\n",
              "      <th>ytm20-Jan</th>\n",
              "      <th>ytm21-Jan</th>\n",
              "      <th>ytm22-Jan</th>\n",
              "      <th>ytm25-Jan</th>\n",
              "      <th>ytm26-Jan</th>\n",
              "      <th>ytm27-Jan</th>\n",
              "      <th>ytm28-Jan</th>\n",
              "      <th>ytm29-Jan</th>\n",
              "    </tr>\n",
              "  </thead>\n",
              "  <tbody>\n",
              "    <tr>\n",
              "      <th>0</th>\n",
              "      <td>6</td>\n",
              "      <td>CAN 1.5 August 1 2021</td>\n",
              "      <td>CA135087K296</td>\n",
              "      <td>2019-05-06</td>\n",
              "      <td>2021-08-01</td>\n",
              "      <td>0.0150</td>\n",
              "      <td>100.76</td>\n",
              "      <td>100.75</td>\n",
              "      <td>100.73</td>\n",
              "      <td>100.72</td>\n",
              "      <td>100.72</td>\n",
              "      <td>100.71</td>\n",
              "      <td>100.71</td>\n",
              "      <td>100.71</td>\n",
              "      <td>100.70</td>\n",
              "      <td>100.70</td>\n",
              "      <td>6</td>\n",
              "      <td>0.000769</td>\n",
              "      <td>0.000883</td>\n",
              "      <td>0.001186</td>\n",
              "      <td>0.001303</td>\n",
              "      <td>0.001232</td>\n",
              "      <td>0.001207</td>\n",
              "      <td>0.001134</td>\n",
              "      <td>0.001060</td>\n",
              "      <td>0.001181</td>\n",
              "      <td>0.001106</td>\n",
              "    </tr>\n",
              "    <tr>\n",
              "      <th>1</th>\n",
              "      <td>9</td>\n",
              "      <td>CAN 1.5 Feb 1 2022</td>\n",
              "      <td>CA135087K601</td>\n",
              "      <td>2019-11-04</td>\n",
              "      <td>2022-02-01</td>\n",
              "      <td>0.0150</td>\n",
              "      <td>101.44</td>\n",
              "      <td>101.44</td>\n",
              "      <td>101.41</td>\n",
              "      <td>101.40</td>\n",
              "      <td>101.40</td>\n",
              "      <td>101.38</td>\n",
              "      <td>101.38</td>\n",
              "      <td>101.39</td>\n",
              "      <td>101.38</td>\n",
              "      <td>101.38</td>\n",
              "      <td>12</td>\n",
              "      <td>0.001065</td>\n",
              "      <td>0.001029</td>\n",
              "      <td>0.001281</td>\n",
              "      <td>0.001341</td>\n",
              "      <td>0.001305</td>\n",
              "      <td>0.001390</td>\n",
              "      <td>0.001354</td>\n",
              "      <td>0.001219</td>\n",
              "      <td>0.001281</td>\n",
              "      <td>0.001244</td>\n",
              "    </tr>\n",
              "    <tr>\n",
              "      <th>2</th>\n",
              "      <td>14</td>\n",
              "      <td>CAN 0.25 August 1 2022</td>\n",
              "      <td>CA135087L286</td>\n",
              "      <td>2020-05-04</td>\n",
              "      <td>2022-08-01</td>\n",
              "      <td>0.0025</td>\n",
              "      <td>100.20</td>\n",
              "      <td>100.19</td>\n",
              "      <td>100.16</td>\n",
              "      <td>100.16</td>\n",
              "      <td>100.16</td>\n",
              "      <td>100.14</td>\n",
              "      <td>100.15</td>\n",
              "      <td>100.17</td>\n",
              "      <td>100.18</td>\n",
              "      <td>100.18</td>\n",
              "      <td>18</td>\n",
              "      <td>0.001195</td>\n",
              "      <td>0.001258</td>\n",
              "      <td>0.001452</td>\n",
              "      <td>0.001450</td>\n",
              "      <td>0.001448</td>\n",
              "      <td>0.001574</td>\n",
              "      <td>0.001507</td>\n",
              "      <td>0.001372</td>\n",
              "      <td>0.001304</td>\n",
              "      <td>0.001302</td>\n",
              "    </tr>\n",
              "    <tr>\n",
              "      <th>3</th>\n",
              "      <td>16</td>\n",
              "      <td>CAN 0.25 Feb 1 2023</td>\n",
              "      <td>CA135087L773</td>\n",
              "      <td>2020-10-26</td>\n",
              "      <td>2023-02-01</td>\n",
              "      <td>0.0025</td>\n",
              "      <td>100.13</td>\n",
              "      <td>100.12</td>\n",
              "      <td>100.10</td>\n",
              "      <td>100.10</td>\n",
              "      <td>100.10</td>\n",
              "      <td>100.08</td>\n",
              "      <td>100.09</td>\n",
              "      <td>100.12</td>\n",
              "      <td>100.12</td>\n",
              "      <td>100.13</td>\n",
              "      <td>24</td>\n",
              "      <td>0.001859</td>\n",
              "      <td>0.001908</td>\n",
              "      <td>0.002006</td>\n",
              "      <td>0.002005</td>\n",
              "      <td>0.002004</td>\n",
              "      <td>0.002102</td>\n",
              "      <td>0.002052</td>\n",
              "      <td>0.001901</td>\n",
              "      <td>0.001901</td>\n",
              "      <td>0.001850</td>\n",
              "    </tr>\n",
              "    <tr>\n",
              "      <th>4</th>\n",
              "      <td>18</td>\n",
              "      <td>CAN 1.5 June 1 2023</td>\n",
              "      <td>CA135087A610</td>\n",
              "      <td>2012-07-30</td>\n",
              "      <td>2023-06-01</td>\n",
              "      <td>0.0150</td>\n",
              "      <td>103.13</td>\n",
              "      <td>103.14</td>\n",
              "      <td>103.10</td>\n",
              "      <td>103.09</td>\n",
              "      <td>103.09</td>\n",
              "      <td>103.04</td>\n",
              "      <td>103.06</td>\n",
              "      <td>103.10</td>\n",
              "      <td>103.08</td>\n",
              "      <td>103.06</td>\n",
              "      <td>28</td>\n",
              "      <td>0.001751</td>\n",
              "      <td>0.001695</td>\n",
              "      <td>0.001846</td>\n",
              "      <td>0.001873</td>\n",
              "      <td>0.001858</td>\n",
              "      <td>0.002022</td>\n",
              "      <td>0.001924</td>\n",
              "      <td>0.001741</td>\n",
              "      <td>0.001810</td>\n",
              "      <td>0.001879</td>\n",
              "    </tr>\n",
              "    <tr>\n",
              "      <th>5</th>\n",
              "      <td>20</td>\n",
              "      <td>CAN 2.25 March 1 2024</td>\n",
              "      <td>CA135087J546</td>\n",
              "      <td>2018-10-05</td>\n",
              "      <td>2024-03-01</td>\n",
              "      <td>0.0225</td>\n",
              "      <td>106.21</td>\n",
              "      <td>106.21</td>\n",
              "      <td>106.17</td>\n",
              "      <td>106.15</td>\n",
              "      <td>106.17</td>\n",
              "      <td>106.12</td>\n",
              "      <td>106.18</td>\n",
              "      <td>106.22</td>\n",
              "      <td>106.19</td>\n",
              "      <td>106.18</td>\n",
              "      <td>37</td>\n",
              "      <td>0.002500</td>\n",
              "      <td>0.002483</td>\n",
              "      <td>0.002591</td>\n",
              "      <td>0.002637</td>\n",
              "      <td>0.002557</td>\n",
              "      <td>0.002663</td>\n",
              "      <td>0.002458</td>\n",
              "      <td>0.002316</td>\n",
              "      <td>0.002393</td>\n",
              "      <td>0.002407</td>\n",
              "    </tr>\n",
              "    <tr>\n",
              "      <th>6</th>\n",
              "      <td>23</td>\n",
              "      <td>CAN 1.5 Sept 1 2024</td>\n",
              "      <td>CA135087J967</td>\n",
              "      <td>2019-04-05</td>\n",
              "      <td>2024-09-01</td>\n",
              "      <td>0.0150</td>\n",
              "      <td>104.27</td>\n",
              "      <td>104.28</td>\n",
              "      <td>104.25</td>\n",
              "      <td>104.19</td>\n",
              "      <td>104.24</td>\n",
              "      <td>104.29</td>\n",
              "      <td>104.26</td>\n",
              "      <td>104.32</td>\n",
              "      <td>104.24</td>\n",
              "      <td>104.24</td>\n",
              "      <td>43</td>\n",
              "      <td>0.003125</td>\n",
              "      <td>0.003089</td>\n",
              "      <td>0.003162</td>\n",
              "      <td>0.003317</td>\n",
              "      <td>0.003172</td>\n",
              "      <td>0.003009</td>\n",
              "      <td>0.003082</td>\n",
              "      <td>0.002910</td>\n",
              "      <td>0.003120</td>\n",
              "      <td>0.003111</td>\n",
              "    </tr>\n",
              "    <tr>\n",
              "      <th>7</th>\n",
              "      <td>24</td>\n",
              "      <td>CAN 1.25 March 1 2025</td>\n",
              "      <td>CA135087K528</td>\n",
              "      <td>2019-10-11</td>\n",
              "      <td>2025-03-01</td>\n",
              "      <td>0.0125</td>\n",
              "      <td>103.60</td>\n",
              "      <td>103.60</td>\n",
              "      <td>103.59</td>\n",
              "      <td>103.51</td>\n",
              "      <td>103.54</td>\n",
              "      <td>103.62</td>\n",
              "      <td>103.59</td>\n",
              "      <td>103.66</td>\n",
              "      <td>103.61</td>\n",
              "      <td>103.57</td>\n",
              "      <td>49</td>\n",
              "      <td>0.003686</td>\n",
              "      <td>0.003680</td>\n",
              "      <td>0.003698</td>\n",
              "      <td>0.003885</td>\n",
              "      <td>0.003807</td>\n",
              "      <td>0.003597</td>\n",
              "      <td>0.003664</td>\n",
              "      <td>0.003489</td>\n",
              "      <td>0.003604</td>\n",
              "      <td>0.003695</td>\n",
              "    </tr>\n",
              "    <tr>\n",
              "      <th>8</th>\n",
              "      <td>27</td>\n",
              "      <td>CAN 0.5 Sept 1 2025</td>\n",
              "      <td>CA135087K940</td>\n",
              "      <td>2020-04-03</td>\n",
              "      <td>2025-09-01</td>\n",
              "      <td>0.0050</td>\n",
              "      <td>100.33</td>\n",
              "      <td>100.32</td>\n",
              "      <td>100.30</td>\n",
              "      <td>100.22</td>\n",
              "      <td>100.27</td>\n",
              "      <td>100.37</td>\n",
              "      <td>100.33</td>\n",
              "      <td>100.42</td>\n",
              "      <td>100.35</td>\n",
              "      <td>100.33</td>\n",
              "      <td>55</td>\n",
              "      <td>0.004278</td>\n",
              "      <td>0.004299</td>\n",
              "      <td>0.004342</td>\n",
              "      <td>0.004517</td>\n",
              "      <td>0.004407</td>\n",
              "      <td>0.004187</td>\n",
              "      <td>0.004274</td>\n",
              "      <td>0.004076</td>\n",
              "      <td>0.004229</td>\n",
              "      <td>0.004273</td>\n",
              "    </tr>\n",
              "    <tr>\n",
              "      <th>9</th>\n",
              "      <td>28</td>\n",
              "      <td>CAN 0.25 March 1 2026</td>\n",
              "      <td>CA135087L518</td>\n",
              "      <td>2020-10-09</td>\n",
              "      <td>2026-03-01</td>\n",
              "      <td>0.0025</td>\n",
              "      <td>98.78</td>\n",
              "      <td>98.77</td>\n",
              "      <td>98.76</td>\n",
              "      <td>98.66</td>\n",
              "      <td>98.71</td>\n",
              "      <td>98.84</td>\n",
              "      <td>98.83</td>\n",
              "      <td>98.93</td>\n",
              "      <td>98.86</td>\n",
              "      <td>98.81</td>\n",
              "      <td>61</td>\n",
              "      <td>0.004916</td>\n",
              "      <td>0.004937</td>\n",
              "      <td>0.004959</td>\n",
              "      <td>0.005160</td>\n",
              "      <td>0.005061</td>\n",
              "      <td>0.004805</td>\n",
              "      <td>0.004826</td>\n",
              "      <td>0.004628</td>\n",
              "      <td>0.004769</td>\n",
              "      <td>0.004870</td>\n",
              "    </tr>\n",
              "  </tbody>\n",
              "</table>\n",
              "</div>"
            ],
            "text/plain": [
              "   index               Bond_Name          ISIN  ... ytm27-Jan ytm28-Jan  ytm29-Jan\n",
              "0      6   CAN 1.5 August 1 2021  CA135087K296  ...  0.001060  0.001181   0.001106\n",
              "1      9      CAN 1.5 Feb 1 2022  CA135087K601  ...  0.001219  0.001281   0.001244\n",
              "2     14  CAN 0.25 August 1 2022  CA135087L286  ...  0.001372  0.001304   0.001302\n",
              "3     16     CAN 0.25 Feb 1 2023  CA135087L773  ...  0.001901  0.001901   0.001850\n",
              "4     18     CAN 1.5 June 1 2023  CA135087A610  ...  0.001741  0.001810   0.001879\n",
              "5     20   CAN 2.25 March 1 2024  CA135087J546  ...  0.002316  0.002393   0.002407\n",
              "6     23     CAN 1.5 Sept 1 2024  CA135087J967  ...  0.002910  0.003120   0.003111\n",
              "7     24   CAN 1.25 March 1 2025  CA135087K528  ...  0.003489  0.003604   0.003695\n",
              "8     27     CAN 0.5 Sept 1 2025  CA135087K940  ...  0.004076  0.004229   0.004273\n",
              "9     28   CAN 0.25 March 1 2026  CA135087L518  ...  0.004628  0.004769   0.004870\n",
              "\n",
              "[10 rows x 27 columns]"
            ]
          },
          "metadata": {
            "tags": []
          },
          "execution_count": 60
        }
      ]
    },
    {
      "cell_type": "code",
      "metadata": {
        "colab": {
          "base_uri": "https://localhost:8080/",
          "height": 35
        },
        "id": "iovoODhbCiWw",
        "outputId": "0987e476-84fb-42fd-b2ef-e3e7fcefb2cb"
      },
      "source": [
        "# df_data['Maturity_Date'][0][5:7]"
      ],
      "execution_count": 170,
      "outputs": [
        {
          "output_type": "execute_result",
          "data": {
            "application/vnd.google.colaboratory.intrinsic+json": {
              "type": "string"
            },
            "text/plain": [
              "'02'"
            ]
          },
          "metadata": {
            "tags": []
          },
          "execution_count": 170
        }
      ]
    },
    {
      "cell_type": "code",
      "metadata": {
        "colab": {
          "base_uri": "https://localhost:8080/"
        },
        "id": "4hliheSu22at",
        "outputId": "69fd7c24-6028-406b-d8d3-440be2897314"
      },
      "source": [
        "df_data['num_months'] = df_data['Maturity_Date']\n",
        "\n",
        "for i in range(0,len(df_data)):\n",
        "  df_data['num_months'][i] = -((end_date.year - int(df_data['Maturity_Date'][i][0:4])) * 12 + end_date.month - int(df_data['Maturity_Date'][i][5:7]))"
      ],
      "execution_count": 11,
      "outputs": [
        {
          "output_type": "stream",
          "text": [
            "/usr/local/lib/python3.6/dist-packages/ipykernel_launcher.py:4: SettingWithCopyWarning: \n",
            "A value is trying to be set on a copy of a slice from a DataFrame\n",
            "\n",
            "See the caveats in the documentation: https://pandas.pydata.org/pandas-docs/stable/user_guide/indexing.html#returning-a-view-versus-a-copy\n",
            "  after removing the cwd from sys.path.\n"
          ],
          "name": "stderr"
        }
      ]
    },
    {
      "cell_type": "code",
      "metadata": {
        "colab": {
          "base_uri": "https://localhost:8080/"
        },
        "id": "54WOOBsP_f2O",
        "outputId": "bbf2c063-7149-48f6-db0d-1bbd5ffae2c6"
      },
      "source": [
        "bond_pricing.bond_price_breakup(settle, cpn, mat, yld=0.0007685331695580366, freq=2, comp_freq=2, face=100, redeem=None, daycount=None, return_dataframe=False)"
      ],
      "execution_count": 147,
      "outputs": [
        {
          "output_type": "execute_result",
          "data": {
            "text/plain": [
              "{'AccruedInterest': 0.6986301369863013,\n",
              " 'CleanPrice': 100.75999999999992,\n",
              " 'DirtyPrice': 101.45863013698622,\n",
              " 'NextCoupon': Timestamp('2021-02-01 00:00:00'),\n",
              " 'PreviousCoupon': Timestamp('2020-08-01 00:00:00')}"
            ]
          },
          "metadata": {
            "tags": []
          },
          "execution_count": 147
        }
      ]
    },
    {
      "cell_type": "code",
      "metadata": {
        "id": "p5SujgsU7KPv"
      },
      "source": [
        "#Chosen bonds to calculate yield curve\n",
        "isin_list = ['CA135087K296','CA135087K601','CA135087L286','CA135087L773','CA135087A610','CA135087J546','CA135087J967','CA135087K528','CA135087K940','CA135087L518']\n",
        "\n",
        "df = df_data.loc[df_data['ISIN'].isin(isin_list)]"
      ],
      "execution_count": 12,
      "outputs": []
    },
    {
      "cell_type": "code",
      "metadata": {
        "id": "oiVmIrUyRHhx"
      },
      "source": [
        "df[\"ytm18-Jan\"] = df[\"18-Jan\"] * 0\n",
        "df[\"ytm19-Jan\"] = df[\"18-Jan\"] * 0\n",
        "df[\"ytm20-Jan\"] = df[\"18-Jan\"] * 0\n",
        "df[\"ytm21-Jan\"] = df[\"18-Jan\"] * 0\n",
        "df[\"ytm22-Jan\"] = df[\"18-Jan\"] * 0\n",
        "df[\"ytm25-Jan\"] = df[\"18-Jan\"] * 0\n",
        "df[\"ytm26-Jan\"] = df[\"18-Jan\"] * 0\n",
        "df[\"ytm27-Jan\"] = df[\"18-Jan\"] * 0\n",
        "df[\"ytm28-Jan\"] = df[\"18-Jan\"] * 0\n",
        "df[\"ytm29-Jan\"] = df[\"18-Jan\"] * 0\n"
      ],
      "execution_count": null,
      "outputs": []
    },
    {
      "cell_type": "code",
      "metadata": {
        "id": "IvdMJ-oJVVvD"
      },
      "source": [
        "df = df.reset_index()"
      ],
      "execution_count": 14,
      "outputs": []
    },
    {
      "cell_type": "code",
      "metadata": {
        "id": "HEOus4dKAhlX"
      },
      "source": [
        "settle = '2021-01-18'\n",
        "mat = '2021-08-01'\n",
        "cpn = 0.0150\n",
        "price = 100.76\n",
        "freq = 2\n",
        "# Default daycount is Actual/365\n",
        "bond_pricing.bond_yield(settle, cpn, mat, price, freq, comp_freq=2, face=100, redeem=None, daycount=None, guess=0.01)"
      ],
      "execution_count": null,
      "outputs": []
    },
    {
      "cell_type": "code",
      "metadata": {
        "colab": {
          "base_uri": "https://localhost:8080/"
        },
        "id": "sKFeFJM0AyR8",
        "outputId": "9902581d-b507-438a-f5ad-0bb0897b4205"
      },
      "source": [
        "df['Maturity_Date'][i]"
      ],
      "execution_count": 148,
      "outputs": [
        {
          "output_type": "execute_result",
          "data": {
            "text/plain": [
              "datetime.datetime(2026, 3, 1, 0, 0)"
            ]
          },
          "metadata": {
            "tags": []
          },
          "execution_count": 148
        }
      ]
    },
    {
      "cell_type": "code",
      "metadata": {
        "colab": {
          "base_uri": "https://localhost:8080/"
        },
        "id": "9M_wUdE48cBz",
        "outputId": "776eb594-8af9-4e0d-b95c-ea03d1d9807a"
      },
      "source": [
        "for elem in ['18-Jan','19-Jan','20-Jan','21-Jan','22-Jan','25-Jan','26-Jan','27-Jan','28-Jan','29-Jan']:\n",
        "  for i in range(0,len(df)):\n",
        "    if elem == '18-Jan':\n",
        "      date = '2021-01-18'\n",
        "    elif elem == '19-Jan':\n",
        "      date = '2021-01-19'\n",
        "    elif elem == '20-Jan':\n",
        "      date = '2021-01-20'\n",
        "    elif elem == '21-Jan':\n",
        "      date = '2021-01-21'\n",
        "    elif elem == '22-Jan':\n",
        "      date = '2021-01-22'\n",
        "    elif elem == '25-Jan':\n",
        "      date = '2021-01-25'\n",
        "    elif elem == '26-Jan':\n",
        "      date = '2021-01-26'\n",
        "    elif elem == '27-Jan':\n",
        "      date = '2021-01-27'\n",
        "    elif elem == '28-Jan':\n",
        "      date = '2021-01-28'\n",
        "    elif elem == '29-Jan':\n",
        "      date = '2021-01-29'\n",
        "    settle = date\n",
        "    mat = df['Maturity_Date'][i]\n",
        "    cpn = df['Coupon'][i]\n",
        "    price = df[elem][i]\n",
        "    freq = 2\n",
        "    # Default daycount is Actual/365\n",
        "    df['ytm' + elem][i] = bond_pricing.bond_yield(settle, cpn, mat, price, freq, comp_freq=2, face=100, redeem=None, daycount=None, guess=0.01)\n"
      ],
      "execution_count": 15,
      "outputs": [
        {
          "output_type": "stream",
          "text": [
            "/usr/local/lib/python3.6/dist-packages/ipykernel_launcher.py:29: SettingWithCopyWarning: \n",
            "A value is trying to be set on a copy of a slice from a DataFrame\n",
            "\n",
            "See the caveats in the documentation: https://pandas.pydata.org/pandas-docs/stable/user_guide/indexing.html#returning-a-view-versus-a-copy\n"
          ],
          "name": "stderr"
        }
      ]
    },
    {
      "cell_type": "code",
      "metadata": {
        "colab": {
          "base_uri": "https://localhost:8080/",
          "height": 312
        },
        "id": "mrSE6tMfRq8j",
        "outputId": "0efb6362-fd7c-46fa-f663-2a41cb61b61b"
      },
      "source": [
        "from scipy import interpolate\n",
        "x = df['num_months']/12\n",
        "y1 = df['ytm18-Jan']\n",
        "y2 = df['ytm19-Jan']\n",
        "y3 = df['ytm20-Jan']\n",
        "y4 = df['ytm21-Jan']\n",
        "y5 = df['ytm22-Jan']\n",
        "y6 = df['ytm25-Jan']\n",
        "y7 = df['ytm26-Jan']\n",
        "y8 = df['ytm27-Jan']\n",
        "y9 = df['ytm28-Jan']\n",
        "y10 = df['ytm29-Jan']\n",
        "\n",
        "x_new = np.linspace(0.5, 5.1, 1000)\n",
        "a_BSpline1 = interpolate.make_interp_spline(x, y1)\n",
        "y_new1 = a_BSpline1(x_new)\n",
        "a_BSpline2 = interpolate.make_interp_spline(x, y2)\n",
        "y_new2 = a_BSpline2(x_new)\n",
        "a_BSpline3 = interpolate.make_interp_spline(x, y3)\n",
        "y_new3 = a_BSpline3(x_new)\n",
        "a_BSpline4 = interpolate.make_interp_spline(x, y4)\n",
        "y_new4 = a_BSpline4(x_new)\n",
        "a_BSpline5 = interpolate.make_interp_spline(x, y5)\n",
        "y_new5 = a_BSpline5(x_new)\n",
        "a_BSpline6 = interpolate.make_interp_spline(x, y6)\n",
        "y_new6 = a_BSpline6(x_new)\n",
        "a_BSpline7 = interpolate.make_interp_spline(x, y7)\n",
        "y_new7 = a_BSpline7(x_new)\n",
        "a_BSpline8 = interpolate.make_interp_spline(x, y8)\n",
        "y_new8 = a_BSpline8(x_new)\n",
        "a_BSpline9 = interpolate.make_interp_spline(x, y9)\n",
        "y_new9 = a_BSpline9(x_new)\n",
        "a_BSpline10 = interpolate.make_interp_spline(x, y10)\n",
        "y_new10 = a_BSpline10(x_new)\n",
        "\n",
        "plt.plot(x_new, y_new1)\n",
        "plt.plot(x_new, y_new2)\n",
        "plt.plot(x_new, y_new3)\n",
        "plt.plot(x_new, y_new4)\n",
        "plt.plot(x_new, y_new5)\n",
        "plt.plot(x_new, y_new6)\n",
        "plt.plot(x_new, y_new7)\n",
        "plt.plot(x_new, y_new8)\n",
        "plt.plot(x_new, y_new9)\n",
        "plt.plot(x_new, y_new10)\n",
        "\n",
        "plt.legend([\"Jan 18\", \"Jan 19\", \"Jan 20\", \"Jan 21\", \"Jan 22\", \"Jan 25\", \"Jan 26\", \"Jan 27\", \"Jan 28\", \"Jan 29\"])\n",
        "plt.xlabel('Term to Maturity (years)')\n",
        "plt.ylabel('Yield to Maturity (YTM) in decimal')\n",
        "plt.title('Yield to Maturity on 0-5 Year Canadian Government Bonds')"
      ],
      "execution_count": 16,
      "outputs": [
        {
          "output_type": "execute_result",
          "data": {
            "text/plain": [
              "Text(0.5, 1.0, 'Yield to Maturity on 0-5 Year Canadian Government Bonds')"
            ]
          },
          "metadata": {
            "tags": []
          },
          "execution_count": 16
        },
        {
          "output_type": "display_data",
          "data": {
            "image/png": "[encoded data removed]",
            "text/plain": [
              "<Figure size 432x288 with 1 Axes>"
            ]
          },
          "metadata": {
            "tags": [],
            "needs_background": "light"
          }
        }
      ]
    },
    {
      "cell_type": "markdown",
      "metadata": {
        "id": "u-JI6olUG5gc"
      },
      "source": [
        "Spot Curve Calculation"
      ]
    },
    {
      "cell_type": "code",
      "metadata": {
        "id": "6tKuuH4CuEli"
      },
      "source": [
        "def calculating_spot_rates(price, par, T, cpn, prev_spot_rate, guess = 0.01):\n",
        "\n",
        "    T = T/12\n",
        "    cpn = cpn/2 * par\n",
        "\n",
        "    if T == 1:\n",
        "      spot_func = lambda y: (cpn)/(1 + prev_spot_rate)**1 + (cpn+par)/(1 + y)**2 - price\n",
        "    elif T == 1.5:\n",
        "      spot_func = lambda y: (cpn)/(1+prev_spot_rate[:-1][0])**1 + (cpn)/(1 + prev_spot_rate[1])**2 + (cpn+par)/(1+y)**3 - price\n",
        "    elif T == 2:\n",
        "      spot_func = lambda y: (cpn)/(1+prev_spot_rate[:-2][0])**1 + (cpn)/(1+prev_spot_rate[1])**2 + (cpn)/(1+prev_spot_rate[2])**3 + (cpn+par)/(1+y)**4 - price\n",
        "    elif T == (28/12):\n",
        "      spot_june1_21 = 0+(prev_spot_rate[:-3][0]-0)*((4/12)-0)/(0.5-0)\n",
        "      spot_dec1_21 = (prev_spot_rate[:-3][0])+(prev_spot_rate[1]-prev_spot_rate[:-3][0])*((10/12)-0.5)/(1-0.5)\n",
        "      spot_june1_22 = prev_spot_rate[1] + (prev_spot_rate[2]-prev_spot_rate[1]) * ((16/12) - 1)/(1.5-1)\n",
        "      spot_dec1_22 = prev_spot_rate[2] + (prev_spot_rate[3]-prev_spot_rate[2]) * ((22/12) - 1.5)/(2-1.5)\n",
        "\n",
        "      spot_func = lambda y: (cpn)/(1+spot_june1_21)**1 + (cpn)/(1+spot_dec1_21)**2 + (cpn)/(1+spot_june1_22)**3 + (cpn)/(1+spot_dec1_22)**4 + (cpn+par)/(1+y)**5 - price\n",
        "    elif T == (37/12):\n",
        "      spot_march1_21 = 0 + (prev_spot_rate[:-4][0] - 0)*((1/12)-0)/(0.5-0)\n",
        "      spot_sept1_21 = prev_spot_rate[:-4][0] + (prev_spot_rate[1] - prev_spot_rate[:-4][0])*((7/12)-0.5)/(1-0.5)\n",
        "      spot_march1_22 = prev_spot_rate[1] + (prev_spot_rate[2]-prev_spot_rate[1]) * ((13/12) - 1)/(1.5-1)\n",
        "      spot_sept1_22 = prev_spot_rate[2] + (prev_spot_rate[3]-prev_spot_rate[2]) * ((19/12) - 1.5)/(2-1.5)\n",
        "      spot_march1_23 = prev_spot_rate[3] + (prev_spot_rate[4]-prev_spot_rate[3]) * ((20/12) - 2)/((2+(28/12))-2)\n",
        "      # This next rate needed to be linearly interpolated from March 1 2023 - Sept 1 2023 without a 2nd known point after the desired point\n",
        "      func = lambda y: (cpn)/(1+spot_march1_21)**1 + (cpn)/(1+spot_sept1_21)**2 + (cpn)/(1+spot_march1_22)**3 + (cpn)/(1+spot_sept1_22)**4 + (cpn)/(1+spot_march1_23)**5 + (cpn+par)/(1+y)**6 - price\n",
        "      spot_sept1_23 = optimize.newton(func, guess, tol = 1e-13, maxiter=10000)\n",
        "\n",
        "      spot_func = lambda y: (cpn)/(1+spot_march1_21)**1 + (cpn)/(1+spot_sept1_21)**2 + (cpn)/(1+spot_march1_22)**3 + (cpn)/(1+spot_sept1_22)**4 + (cpn)/(1+spot_march1_23)**5 + (cpn)/(1+spot_sept1_23)**6 + (cpn+par)/(1+y)**7 - price\n",
        "    elif T == (43/12):\n",
        "      spot_march1_21 = 0 + (prev_spot_rate[:-5][0] - 0)*((1/12)-0)/(0.5-0)\n",
        "      spot_sept1_21 = prev_spot_rate[:-5][0] + (prev_spot_rate[1] - prev_spot_rate[:-5][0])*((7/12)-0.5)/(1-0.5)\n",
        "      spot_march1_22 = prev_spot_rate[1] + (prev_spot_rate[2]-prev_spot_rate[1]) * ((13/12) - 1)/(1.5-1)\n",
        "      spot_sept1_22 = prev_spot_rate[2] + (prev_spot_rate[3]-prev_spot_rate[2]) * ((19/12) - 1.5)/(2-1.5)\n",
        "      spot_march1_23 = prev_spot_rate[3] + (prev_spot_rate[4]-prev_spot_rate[3]) * ((20/12) - 2)/((28/12)-2)\n",
        "      spot_sept1_23 = prev_spot_rate[4] + (prev_spot_rate[5]-prev_spot_rate[4]) * ((31/12) - (2+(28/12)))/((37/12)-(28/12))\n",
        "      spot_func = lambda y: (cpn)/(1+spot_march1_21)**1 + (cpn)/(1+spot_sept1_21)**2 + (cpn)/(1+spot_march1_22)**3 + (cpn)/(1+spot_sept1_22)**4 + (cpn)/(1+spot_march1_23)**5 + (cpn)/(1+spot_sept1_23)**6 + (cpn)/(1+prev_spot_rate[5])**7 + (cpn+par)/(1+y)**8 - price\n",
        "    elif T == (49/12):\n",
        "      spot_march1_21 = 0 + (prev_spot_rate[:-6][0] - 0)*((1/12)-0)/(0.5-0)\n",
        "      spot_sept1_21 = prev_spot_rate[:-6][0] + (prev_spot_rate[1] - prev_spot_rate[:-6][0])*((7/12)-0.5)/(1-0.5)\n",
        "      spot_march1_22 = prev_spot_rate[1] + (prev_spot_rate[2]-prev_spot_rate[1]) * ((13/12) - 1)/(1.5-1)\n",
        "      spot_sept1_22 = prev_spot_rate[2] + (prev_spot_rate[3]-prev_spot_rate[2]) * ((19/12) - 1.5)/(2-1.5)\n",
        "      spot_march1_23 = prev_spot_rate[3] + (prev_spot_rate[4]-prev_spot_rate[3]) * ((20/12) - 2)/((28/12)-2)\n",
        "      spot_sept1_23 = prev_spot_rate[4] + (prev_spot_rate[5]-prev_spot_rate[4]) * ((31/12) - (2+(28/12)))/((37/12)-(28/12))\n",
        "      spot_func = lambda y: (cpn)/(1+spot_march1_21)**1 + (cpn)/(1+spot_sept1_21)**2 + (cpn)/(1+spot_march1_22)**3 + (cpn)/(1+spot_sept1_22)**4 + (cpn)/(1+spot_march1_23)**5 + (cpn)/(1+spot_sept1_23)**6 + (cpn)/(1+prev_spot_rate[5])**7 + (cpn)/(1+prev_spot_rate[6])**8 + (cpn+par)/(1+y)**9 - price\n",
        "    elif T == (55/12):\n",
        "      spot_march1_21 = 0 + (prev_spot_rate[:-7][0] - 0)*((1/12)-0)/(0.5-0)\n",
        "      spot_sept1_21 = prev_spot_rate[:-7][0] + (prev_spot_rate[1] - prev_spot_rate[:-7][0])*((7/12)-0.5)/(1-0.5)\n",
        "      spot_march1_22 = prev_spot_rate[1] + (prev_spot_rate[2]-prev_spot_rate[1]) * ((13/12) - 1)/(1.5-1)\n",
        "      spot_sept1_22 = prev_spot_rate[2] + (prev_spot_rate[3]-prev_spot_rate[2]) * ((19/12) - 1.5)/(2-1.5)\n",
        "      spot_march1_23 = prev_spot_rate[3] + (prev_spot_rate[4]-prev_spot_rate[3]) * ((20/12) - 2)/((28/12)-2)\n",
        "      spot_sept1_23 = prev_spot_rate[4] + (prev_spot_rate[5]-prev_spot_rate[4]) * ((31/12) - (2+(28/12)))/((37/12)-(28/12))\n",
        "      spot_func = lambda y: (cpn)/(1+spot_march1_21)**1 + (cpn)/(1+spot_sept1_21)**2 + (cpn)/(1+spot_march1_22)**3 + (cpn)/(1+spot_sept1_22)**4 + (cpn)/(1+spot_march1_23)**5 + (cpn)/(1+spot_sept1_23)**6 + (cpn)/(1+prev_spot_rate[5])**7 + (cpn)/(1+prev_spot_rate[6])**8 + (cpn)/(1+prev_spot_rate[7])**9 + (cpn+par)/(1+y)**10 - price\n",
        "    elif T == (61/12):\n",
        "      spot_march1_21 = 0 + (prev_spot_rate[:-8][0] - 0)*((1/12)-0)/(0.5-0)\n",
        "      spot_sept1_21 = prev_spot_rate[:-8][0] + (prev_spot_rate[1] - prev_spot_rate[:-8][0])*((7/12)-0.5)/(1-0.5)\n",
        "      spot_march1_22 = prev_spot_rate[1] + (prev_spot_rate[2]-prev_spot_rate[1]) * ((13/12) - 1)/(1.5-1)\n",
        "      spot_sept1_22 = prev_spot_rate[2] + (prev_spot_rate[3]-prev_spot_rate[2]) * ((19/12) - 1.5)/(2-1.5)\n",
        "      spot_march1_23 = prev_spot_rate[3] + (prev_spot_rate[4]-prev_spot_rate[3]) * ((20/12) - 2)/((28/12)-2)\n",
        "      spot_sept1_23 = prev_spot_rate[4] + (prev_spot_rate[5]-prev_spot_rate[4]) * ((31/12) - (2+(28/12)))/((37/12)-(28/12))\n",
        "      spot_func = lambda y: (cpn)/(1+spot_march1_21)**1 + (cpn)/(1+spot_sept1_21)**2 + (cpn)/(1+spot_march1_22)**3 + (cpn)/(1+spot_sept1_22)**4 + (cpn)/(1+spot_march1_23)**5 + (cpn)/(1+spot_sept1_23)**6 + (cpn)/(1+prev_spot_rate[5])**7 + (cpn)/(1+prev_spot_rate[6])**8 + (cpn)/(1+prev_spot_rate[7])**9 + (cpn)/(1+prev_spot_rate[8])**10 + (cpn+par)/(1+y)**11 - price\n",
        "\n",
        "    return optimize.newton(spot_func, guess, tol = 1e-13, maxiter=10000)\n"
      ],
      "execution_count": 88,
      "outputs": []
    },
    {
      "cell_type": "code",
      "metadata": {
        "id": "CSFe4qP4Ic0D"
      },
      "source": [
        "#Bootstrapping spot curve\n",
        "spot_rates = {}\n",
        "#Defining spot rates for 6 month based off YTM for 6 month bonds\n",
        "for elem in ['18-Jan','19-Jan','20-Jan','21-Jan','22-Jan','25-Jan','26-Jan','27-Jan','28-Jan','29-Jan']:\n",
        "    spot_rates[elem] = df['ytm'+elem][0]"
      ],
      "execution_count": 89,
      "outputs": []
    },
    {
      "cell_type": "code",
      "metadata": {
        "colab": {
          "base_uri": "https://localhost:8080/",
          "height": 111
        },
        "id": "ieS75yVfrx78",
        "outputId": "80cb5d45-96c4-4b72-df7b-eeab38aae8eb"
      },
      "source": [
        "spot_rates"
      ],
      "execution_count": 93,
      "outputs": [
        {
          "output_type": "execute_result",
          "data": {
            "text/html": [
              "<div>\n",
              "<style scoped>\n",
              "    .dataframe tbody tr th:only-of-type {\n",
              "        vertical-align: middle;\n",
              "    }\n",
              "\n",
              "    .dataframe tbody tr th {\n",
              "        vertical-align: top;\n",
              "    }\n",
              "\n",
              "    .dataframe thead th {\n",
              "        text-align: right;\n",
              "    }\n",
              "</style>\n",
              "<table border=\"1\" class=\"dataframe\">\n",
              "  <thead>\n",
              "    <tr style=\"text-align: right;\">\n",
              "      <th></th>\n",
              "      <th>18-Jan</th>\n",
              "      <th>19-Jan</th>\n",
              "      <th>20-Jan</th>\n",
              "      <th>21-Jan</th>\n",
              "      <th>22-Jan</th>\n",
              "      <th>25-Jan</th>\n",
              "      <th>26-Jan</th>\n",
              "      <th>27-Jan</th>\n",
              "      <th>28-Jan</th>\n",
              "      <th>29-Jan</th>\n",
              "    </tr>\n",
              "  </thead>\n",
              "  <tbody>\n",
              "    <tr>\n",
              "      <th>0</th>\n",
              "      <td>0.000769</td>\n",
              "      <td>0.000883</td>\n",
              "      <td>0.001186</td>\n",
              "      <td>0.001303</td>\n",
              "      <td>0.001232</td>\n",
              "      <td>0.001207</td>\n",
              "      <td>0.001134</td>\n",
              "      <td>0.001060</td>\n",
              "      <td>0.001181</td>\n",
              "      <td>0.001106</td>\n",
              "    </tr>\n",
              "    <tr>\n",
              "      <th>1</th>\n",
              "      <td>0.000295</td>\n",
              "      <td>0.000295</td>\n",
              "      <td>0.000443</td>\n",
              "      <td>0.000492</td>\n",
              "      <td>0.000492</td>\n",
              "      <td>0.000592</td>\n",
              "      <td>0.000592</td>\n",
              "      <td>0.000542</td>\n",
              "      <td>0.000592</td>\n",
              "      <td>0.000592</td>\n",
              "    </tr>\n",
              "  </tbody>\n",
              "</table>\n",
              "</div>"
            ],
            "text/plain": [
              "     18-Jan    19-Jan    20-Jan  ...    27-Jan    28-Jan    29-Jan\n",
              "0  0.000769  0.000883  0.001186  ...  0.001060  0.001181  0.001106\n",
              "1  0.000295  0.000295  0.000443  ...  0.000542  0.000592  0.000592\n",
              "\n",
              "[2 rows x 10 columns]"
            ]
          },
          "metadata": {
            "tags": []
          },
          "execution_count": 93
        }
      ]
    },
    {
      "cell_type": "code",
      "metadata": {
        "id": "BHHQnV5nXPEC"
      },
      "source": [
        "spot_rates = pd.DataFrame(spot_rates, index= ['0'])"
      ],
      "execution_count": 91,
      "outputs": []
    },
    {
      "cell_type": "code",
      "metadata": {
        "id": "ZkdprQBgLgSX"
      },
      "source": [
        "#Defining spot rates for 1 year\n",
        "spot_1 = []\n",
        "for elem in ['18-Jan','19-Jan','20-Jan','21-Jan','22-Jan','25-Jan','26-Jan','27-Jan','28-Jan','29-Jan']:\n",
        "    spot_1.append(calculating_spot_rates(df[elem][1],100,df['num_months'][1],df['Coupon'][1],spot_rates[elem][0]))\n",
        "\n",
        "spot_rates.loc[len(spot_rates)] = spot_1"
      ],
      "execution_count": 92,
      "outputs": []
    },
    {
      "cell_type": "code",
      "metadata": {
        "id": "1X47qG1sXFRn"
      },
      "source": [
        "#Defining spot rates for 1.5 year\n",
        "spot_1_5 = []\n",
        "for elem in ['18-Jan','19-Jan','20-Jan','21-Jan','22-Jan','25-Jan','26-Jan','27-Jan','28-Jan','29-Jan']:\n",
        "    spot_1_5.append(calculating_spot_rates(df[elem][2],100,df['num_months'][2],df['Coupon'][2],spot_rates[elem]))\n",
        "\n",
        "spot_rates.loc[len(spot_rates)] = spot_1_5"
      ],
      "execution_count": 94,
      "outputs": []
    },
    {
      "cell_type": "code",
      "metadata": {
        "id": "tIwOS5tqZ3WU"
      },
      "source": [
        "#Defining spot rates for 2 year\n",
        "spot_2 = []\n",
        "for elem in ['18-Jan','19-Jan','20-Jan','21-Jan','22-Jan','25-Jan','26-Jan','27-Jan','28-Jan','29-Jan']:\n",
        "    spot_2.append(calculating_spot_rates(df[elem][3],100,df['num_months'][3],df['Coupon'][3],spot_rates[elem]))\n",
        "\n",
        "spot_rates.loc[len(spot_rates)] = spot_2"
      ],
      "execution_count": 95,
      "outputs": []
    },
    {
      "cell_type": "code",
      "metadata": {
        "colab": {
          "base_uri": "https://localhost:8080/",
          "height": 173
        },
        "id": "aoQy02zoXx8D",
        "outputId": "41d0f2ae-1ac6-4035-bc5d-882439263e32"
      },
      "source": [
        "spot_rates"
      ],
      "execution_count": 23,
      "outputs": [
        {
          "output_type": "execute_result",
          "data": {
            "text/html": [
              "<div>\n",
              "<style scoped>\n",
              "    .dataframe tbody tr th:only-of-type {\n",
              "        vertical-align: middle;\n",
              "    }\n",
              "\n",
              "    .dataframe tbody tr th {\n",
              "        vertical-align: top;\n",
              "    }\n",
              "\n",
              "    .dataframe thead th {\n",
              "        text-align: right;\n",
              "    }\n",
              "</style>\n",
              "<table border=\"1\" class=\"dataframe\">\n",
              "  <thead>\n",
              "    <tr style=\"text-align: right;\">\n",
              "      <th></th>\n",
              "      <th>18-Jan</th>\n",
              "      <th>19-Jan</th>\n",
              "      <th>20-Jan</th>\n",
              "      <th>21-Jan</th>\n",
              "      <th>22-Jan</th>\n",
              "      <th>25-Jan</th>\n",
              "      <th>26-Jan</th>\n",
              "      <th>27-Jan</th>\n",
              "      <th>28-Jan</th>\n",
              "      <th>29-Jan</th>\n",
              "    </tr>\n",
              "  </thead>\n",
              "  <tbody>\n",
              "    <tr>\n",
              "      <th>0</th>\n",
              "      <td>0.000769</td>\n",
              "      <td>0.000883</td>\n",
              "      <td>0.001186</td>\n",
              "      <td>0.001303</td>\n",
              "      <td>0.001232</td>\n",
              "      <td>0.001207</td>\n",
              "      <td>0.001134</td>\n",
              "      <td>0.001060</td>\n",
              "      <td>0.001181</td>\n",
              "      <td>0.001106</td>\n",
              "    </tr>\n",
              "    <tr>\n",
              "      <th>1</th>\n",
              "      <td>0.000295</td>\n",
              "      <td>0.000295</td>\n",
              "      <td>0.000443</td>\n",
              "      <td>0.000492</td>\n",
              "      <td>0.000492</td>\n",
              "      <td>0.000592</td>\n",
              "      <td>0.000592</td>\n",
              "      <td>0.000542</td>\n",
              "      <td>0.000592</td>\n",
              "      <td>0.000592</td>\n",
              "    </tr>\n",
              "    <tr>\n",
              "      <th>2</th>\n",
              "      <td>0.000583</td>\n",
              "      <td>0.000616</td>\n",
              "      <td>0.000716</td>\n",
              "      <td>0.000716</td>\n",
              "      <td>0.000716</td>\n",
              "      <td>0.000783</td>\n",
              "      <td>0.000749</td>\n",
              "      <td>0.000683</td>\n",
              "      <td>0.000649</td>\n",
              "      <td>0.000649</td>\n",
              "    </tr>\n",
              "    <tr>\n",
              "      <th>3</th>\n",
              "      <td>0.000925</td>\n",
              "      <td>0.000950</td>\n",
              "      <td>0.001000</td>\n",
              "      <td>0.001000</td>\n",
              "      <td>0.001000</td>\n",
              "      <td>0.001050</td>\n",
              "      <td>0.001025</td>\n",
              "      <td>0.000950</td>\n",
              "      <td>0.000950</td>\n",
              "      <td>0.000925</td>\n",
              "    </tr>\n",
              "  </tbody>\n",
              "</table>\n",
              "</div>"
            ],
            "text/plain": [
              "     18-Jan    19-Jan    20-Jan  ...    27-Jan    28-Jan    29-Jan\n",
              "0  0.000769  0.000883  0.001186  ...  0.001060  0.001181  0.001106\n",
              "1  0.000295  0.000295  0.000443  ...  0.000542  0.000592  0.000592\n",
              "2  0.000583  0.000616  0.000716  ...  0.000683  0.000649  0.000649\n",
              "3  0.000925  0.000950  0.001000  ...  0.000950  0.000950  0.000925\n",
              "\n",
              "[4 rows x 10 columns]"
            ]
          },
          "metadata": {
            "tags": []
          },
          "execution_count": 23
        }
      ]
    },
    {
      "cell_type": "code",
      "metadata": {
        "id": "9Ef8U-DYUag9"
      },
      "source": [
        "#Defining spot rates for 2.33 year\n",
        "spot_2_33 = []\n",
        "for elem in ['18-Jan','19-Jan','20-Jan','21-Jan','22-Jan','25-Jan','26-Jan','27-Jan','28-Jan','29-Jan']:\n",
        "    #This bond would have coupons on June 1 and Dec 1 of each year instead of Aug 1 and Feb 1 like the previous ones - need to interpolate within the function\n",
        "    spot_2_33.append(calculating_spot_rates(df[elem][4],100,df['num_months'][4],df['Coupon'][4],spot_rates[elem]))\n",
        "\n",
        "spot_rates.loc[len(spot_rates)] = spot_2_33"
      ],
      "execution_count": 96,
      "outputs": []
    },
    {
      "cell_type": "code",
      "metadata": {
        "id": "TIMMwsZchQw5"
      },
      "source": [
        "#Defining spot rates for 3.08 year\n",
        "spot_3_08 = []\n",
        "for elem in ['18-Jan','19-Jan','20-Jan','21-Jan','22-Jan','25-Jan','26-Jan','27-Jan','28-Jan','29-Jan']:\n",
        "    #This bond would have coupons on March 1 and Sept 1 of each year instead of Aug 1 and Feb 1 like most of the previous ones - need to interpolate within the function\n",
        "    spot_3_08.append(calculating_spot_rates(df[elem][5],100,df['num_months'][5],df['Coupon'][5],spot_rates[elem]))\n",
        "\n",
        "spot_rates.loc[len(spot_rates)] = spot_3_08"
      ],
      "execution_count": 97,
      "outputs": []
    },
    {
      "cell_type": "code",
      "metadata": {
        "id": "PeiAqhTblBgw"
      },
      "source": [
        "#Defining spot rates for 3.58 year\n",
        "spot_3_58 = []\n",
        "for elem in ['18-Jan','19-Jan','20-Jan','21-Jan','22-Jan','25-Jan','26-Jan','27-Jan','28-Jan','29-Jan']:\n",
        "    #This bond would have coupons on March 1 and Sept 1 of each year instead of Aug 1 and Feb 1 like most of the previous ones - need to interpolate within the function\n",
        "    spot_3_58.append(calculating_spot_rates(df[elem][6],100,df['num_months'][6],df['Coupon'][6],spot_rates[elem]))\n",
        "\n",
        "spot_rates.loc[len(spot_rates)] = spot_3_58"
      ],
      "execution_count": 98,
      "outputs": []
    },
    {
      "cell_type": "code",
      "metadata": {
        "id": "zudaPsu2n_dh"
      },
      "source": [
        "#Defining spot rates for 4.08 year\n",
        "spot_4_08 = []\n",
        "for elem in ['18-Jan','19-Jan','20-Jan','21-Jan','22-Jan','25-Jan','26-Jan','27-Jan','28-Jan','29-Jan']:\n",
        "    #This bond would have coupons on March 1 and Sept 1 of each year instead of Aug 1 and Feb 1 like most of the previous ones - need to interpolate within the function\n",
        "    spot_4_08.append(calculating_spot_rates(df[elem][7],100,df['num_months'][7],df['Coupon'][7],spot_rates[elem]))\n",
        "\n",
        "spot_rates.loc[len(spot_rates)] = spot_4_08"
      ],
      "execution_count": 99,
      "outputs": []
    },
    {
      "cell_type": "code",
      "metadata": {
        "id": "rP75t4uXpLe8"
      },
      "source": [
        "#Defining spot rates for 4.58 year\n",
        "spot_4_58 = []\n",
        "for elem in ['18-Jan','19-Jan','20-Jan','21-Jan','22-Jan','25-Jan','26-Jan','27-Jan','28-Jan','29-Jan']:\n",
        "    #This bond would have coupons on March 1 and Sept 1 of each year instead of Aug 1 and Feb 1 like most of the previous ones - need to interpolate within the function\n",
        "    spot_4_58.append(calculating_spot_rates(df[elem][8],100,df['num_months'][8],df['Coupon'][8],spot_rates[elem]))\n",
        "\n",
        "spot_rates.loc[len(spot_rates)] = spot_4_58"
      ],
      "execution_count": 100,
      "outputs": []
    },
    {
      "cell_type": "code",
      "metadata": {
        "id": "8WZ7x0Ybp08Q"
      },
      "source": [
        "#Defining spot rates for 4.58 year\n",
        "spot_5_08 = []\n",
        "for elem in ['18-Jan','19-Jan','20-Jan','21-Jan','22-Jan','25-Jan','26-Jan','27-Jan','28-Jan','29-Jan']:\n",
        "    #This bond would have coupons on March 1 and Sept 1 of each year instead of Aug 1 and Feb 1 like most of the previous ones - need to interpolate within the function\n",
        "    spot_5_08.append(calculating_spot_rates(df[elem][9],100,df['num_months'][9],df['Coupon'][9],spot_rates[elem]))\n",
        "\n",
        "spot_rates.loc[len(spot_rates)] = spot_5_08"
      ],
      "execution_count": 101,
      "outputs": []
    },
    {
      "cell_type": "code",
      "metadata": {
        "colab": {
          "base_uri": "https://localhost:8080/",
          "height": 312
        },
        "id": "VmwVqYYCqo0e",
        "outputId": "595d3dc2-42d9-40ac-b004-236518dd76fc"
      },
      "source": [
        "from scipy import interpolate\n",
        "x = df['num_months'][1:]/12\n",
        "y1 = spot_rates['18-Jan'][1:]\n",
        "y2 = spot_rates['19-Jan'][1:]\n",
        "y3 = spot_rates['20-Jan'][1:]\n",
        "y4 = spot_rates['21-Jan'][1:]\n",
        "y5 = spot_rates['22-Jan'][1:]\n",
        "y6 = spot_rates['25-Jan'][1:]\n",
        "y7 = spot_rates['26-Jan'][1:]\n",
        "y8 = spot_rates['27-Jan'][1:]\n",
        "y9 = spot_rates['28-Jan'][1:]\n",
        "y10 = spot_rates['29-Jan'][1:]\n",
        "\n",
        "x_new = np.linspace(1, 5.1, 1000)\n",
        "a_BSpline1 = interpolate.make_interp_spline(x, y1)\n",
        "y_new1 = a_BSpline1(x_new)\n",
        "a_BSpline2 = interpolate.make_interp_spline(x, y2)\n",
        "y_new2 = a_BSpline2(x_new)\n",
        "a_BSpline3 = interpolate.make_interp_spline(x, y3)\n",
        "y_new3 = a_BSpline3(x_new)\n",
        "a_BSpline4 = interpolate.make_interp_spline(x, y4)\n",
        "y_new4 = a_BSpline4(x_new)\n",
        "a_BSpline5 = interpolate.make_interp_spline(x, y5)\n",
        "y_new5 = a_BSpline5(x_new)\n",
        "a_BSpline6 = interpolate.make_interp_spline(x, y6)\n",
        "y_new6 = a_BSpline6(x_new)\n",
        "a_BSpline7 = interpolate.make_interp_spline(x, y7)\n",
        "y_new7 = a_BSpline7(x_new)\n",
        "a_BSpline8 = interpolate.make_interp_spline(x, y8)\n",
        "y_new8 = a_BSpline8(x_new)\n",
        "a_BSpline9 = interpolate.make_interp_spline(x, y9)\n",
        "y_new9 = a_BSpline9(x_new)\n",
        "a_BSpline10 = interpolate.make_interp_spline(x, y10)\n",
        "y_new10 = a_BSpline10(x_new)\n",
        "\n",
        "plt.plot(x_new, y_new1)\n",
        "plt.plot(x_new, y_new2)\n",
        "plt.plot(x_new, y_new3)\n",
        "plt.plot(x_new, y_new4)\n",
        "plt.plot(x_new, y_new5)\n",
        "plt.plot(x_new, y_new6)\n",
        "plt.plot(x_new, y_new7)\n",
        "plt.plot(x_new, y_new8)\n",
        "plt.plot(x_new, y_new9)\n",
        "plt.plot(x_new, y_new10)\n",
        "\n",
        "plt.legend([\"Jan 18\", \"Jan 19\", \"Jan 20\", \"Jan 21\", \"Jan 22\", \"Jan 25\", \"Jan 26\", \"Jan 27\", \"Jan 28\", \"Jan 29\"])\n",
        "plt.xlabel('Term to Maturity (years)')\n",
        "plt.ylabel('Spot rate')\n",
        "plt.title('1-5 Year Spot Rate curve')"
      ],
      "execution_count": 102,
      "outputs": [
        {
          "output_type": "execute_result",
          "data": {
            "text/plain": [
              "Text(0.5, 1.0, '1-5 Year Spot Rate curve')"
            ]
          },
          "metadata": {
            "tags": []
          },
          "execution_count": 102
        },
        {
          "output_type": "display_data",
          "data": {
            "image/png": "[encoded data removed]",
            "text/plain": [
              "<Figure size 432x288 with 1 Axes>"
            ]
          },
          "metadata": {
            "tags": [],
            "needs_background": "light"
          }
        }
      ]
    },
    {
      "cell_type": "markdown",
      "metadata": {
        "id": "PMnZV5N2G0Nn"
      },
      "source": [
        "Forward Curve Calculation\n"
      ]
    },
    {
      "cell_type": "code",
      "metadata": {
        "id": "TphVdhmAG3Ox"
      },
      "source": [
        "# 1 year forward curve for 2 - 5 years \n",
        "def calculating_1Y_fwd_rates(spot1, T1, spot2, T2):\n",
        "\n",
        "    r = (1 + spot2)**T2/(1 + spot1)**T1 - 1  \n",
        "\n",
        "    return r"
      ],
      "execution_count": 31,
      "outputs": []
    },
    {
      "cell_type": "code",
      "metadata": {
        "colab": {
          "base_uri": "https://localhost:8080/",
          "height": 668
        },
        "id": "jDgK4cI9MHob",
        "outputId": "78522eeb-597a-492c-d9d2-d8174eb35d18"
      },
      "source": [
        "df"
      ],
      "execution_count": 32,
      "outputs": [
        {
          "output_type": "execute_result",
          "data": {
            "text/html": [
              "<div>\n",
              "<style scoped>\n",
              "    .dataframe tbody tr th:only-of-type {\n",
              "        vertical-align: middle;\n",
              "    }\n",
              "\n",
              "    .dataframe tbody tr th {\n",
              "        vertical-align: top;\n",
              "    }\n",
              "\n",
              "    .dataframe thead th {\n",
              "        text-align: right;\n",
              "    }\n",
              "</style>\n",
              "<table border=\"1\" class=\"dataframe\">\n",
              "  <thead>\n",
              "    <tr style=\"text-align: right;\">\n",
              "      <th></th>\n",
              "      <th>index</th>\n",
              "      <th>Bond_Name</th>\n",
              "      <th>ISIN</th>\n",
              "      <th>Issue_Date</th>\n",
              "      <th>Maturity_Date</th>\n",
              "      <th>Coupon</th>\n",
              "      <th>18-Jan</th>\n",
              "      <th>19-Jan</th>\n",
              "      <th>20-Jan</th>\n",
              "      <th>21-Jan</th>\n",
              "      <th>22-Jan</th>\n",
              "      <th>25-Jan</th>\n",
              "      <th>26-Jan</th>\n",
              "      <th>27-Jan</th>\n",
              "      <th>28-Jan</th>\n",
              "      <th>29-Jan</th>\n",
              "      <th>num_months</th>\n",
              "      <th>ytm18-Jan</th>\n",
              "      <th>ytm19-Jan</th>\n",
              "      <th>ytm20-Jan</th>\n",
              "      <th>ytm21-Jan</th>\n",
              "      <th>ytm22-Jan</th>\n",
              "      <th>ytm25-Jan</th>\n",
              "      <th>ytm26-Jan</th>\n",
              "      <th>ytm27-Jan</th>\n",
              "      <th>ytm28-Jan</th>\n",
              "      <th>ytm29-Jan</th>\n",
              "    </tr>\n",
              "  </thead>\n",
              "  <tbody>\n",
              "    <tr>\n",
              "      <th>0</th>\n",
              "      <td>6</td>\n",
              "      <td>CAN 1.5 August 1 2021</td>\n",
              "      <td>CA135087K296</td>\n",
              "      <td>2019-05-06</td>\n",
              "      <td>2021-08-01</td>\n",
              "      <td>0.0150</td>\n",
              "      <td>100.76</td>\n",
              "      <td>100.75</td>\n",
              "      <td>100.73</td>\n",
              "      <td>100.72</td>\n",
              "      <td>100.72</td>\n",
              "      <td>100.71</td>\n",
              "      <td>100.71</td>\n",
              "      <td>100.71</td>\n",
              "      <td>100.70</td>\n",
              "      <td>100.70</td>\n",
              "      <td>6</td>\n",
              "      <td>0.000769</td>\n",
              "      <td>0.000883</td>\n",
              "      <td>0.001186</td>\n",
              "      <td>0.001303</td>\n",
              "      <td>0.001232</td>\n",
              "      <td>0.001207</td>\n",
              "      <td>0.001134</td>\n",
              "      <td>0.001060</td>\n",
              "      <td>0.001181</td>\n",
              "      <td>0.001106</td>\n",
              "    </tr>\n",
              "    <tr>\n",
              "      <th>1</th>\n",
              "      <td>9</td>\n",
              "      <td>CAN 1.5 Feb 1 2022</td>\n",
              "      <td>CA135087K601</td>\n",
              "      <td>2019-11-04</td>\n",
              "      <td>2022-02-01</td>\n",
              "      <td>0.0150</td>\n",
              "      <td>101.44</td>\n",
              "      <td>101.44</td>\n",
              "      <td>101.41</td>\n",
              "      <td>101.40</td>\n",
              "      <td>101.40</td>\n",
              "      <td>101.38</td>\n",
              "      <td>101.38</td>\n",
              "      <td>101.39</td>\n",
              "      <td>101.38</td>\n",
              "      <td>101.38</td>\n",
              "      <td>12</td>\n",
              "      <td>0.001065</td>\n",
              "      <td>0.001029</td>\n",
              "      <td>0.001281</td>\n",
              "      <td>0.001341</td>\n",
              "      <td>0.001305</td>\n",
              "      <td>0.001390</td>\n",
              "      <td>0.001354</td>\n",
              "      <td>0.001219</td>\n",
              "      <td>0.001281</td>\n",
              "      <td>0.001244</td>\n",
              "    </tr>\n",
              "    <tr>\n",
              "      <th>2</th>\n",
              "      <td>14</td>\n",
              "      <td>CAN 0.25 August 1 2022</td>\n",
              "      <td>CA135087L286</td>\n",
              "      <td>2020-05-04</td>\n",
              "      <td>2022-08-01</td>\n",
              "      <td>0.0025</td>\n",
              "      <td>100.20</td>\n",
              "      <td>100.19</td>\n",
              "      <td>100.16</td>\n",
              "      <td>100.16</td>\n",
              "      <td>100.16</td>\n",
              "      <td>100.14</td>\n",
              "      <td>100.15</td>\n",
              "      <td>100.17</td>\n",
              "      <td>100.18</td>\n",
              "      <td>100.18</td>\n",
              "      <td>18</td>\n",
              "      <td>0.001195</td>\n",
              "      <td>0.001258</td>\n",
              "      <td>0.001452</td>\n",
              "      <td>0.001450</td>\n",
              "      <td>0.001448</td>\n",
              "      <td>0.001574</td>\n",
              "      <td>0.001507</td>\n",
              "      <td>0.001372</td>\n",
              "      <td>0.001304</td>\n",
              "      <td>0.001302</td>\n",
              "    </tr>\n",
              "    <tr>\n",
              "      <th>3</th>\n",
              "      <td>16</td>\n",
              "      <td>CAN 0.25 Feb 1 2023</td>\n",
              "      <td>CA135087L773</td>\n",
              "      <td>2020-10-26</td>\n",
              "      <td>2023-02-01</td>\n",
              "      <td>0.0025</td>\n",
              "      <td>100.13</td>\n",
              "      <td>100.12</td>\n",
              "      <td>100.10</td>\n",
              "      <td>100.10</td>\n",
              "      <td>100.10</td>\n",
              "      <td>100.08</td>\n",
              "      <td>100.09</td>\n",
              "      <td>100.12</td>\n",
              "      <td>100.12</td>\n",
              "      <td>100.13</td>\n",
              "      <td>24</td>\n",
              "      <td>0.001859</td>\n",
              "      <td>0.001908</td>\n",
              "      <td>0.002006</td>\n",
              "      <td>0.002005</td>\n",
              "      <td>0.002004</td>\n",
              "      <td>0.002102</td>\n",
              "      <td>0.002052</td>\n",
              "      <td>0.001901</td>\n",
              "      <td>0.001901</td>\n",
              "      <td>0.001850</td>\n",
              "    </tr>\n",
              "    <tr>\n",
              "      <th>4</th>\n",
              "      <td>18</td>\n",
              "      <td>CAN 1.5 June 1 2023</td>\n",
              "      <td>CA135087A610</td>\n",
              "      <td>2012-07-30</td>\n",
              "      <td>2023-06-01</td>\n",
              "      <td>0.0150</td>\n",
              "      <td>103.13</td>\n",
              "      <td>103.14</td>\n",
              "      <td>103.10</td>\n",
              "      <td>103.09</td>\n",
              "      <td>103.09</td>\n",
              "      <td>103.04</td>\n",
              "      <td>103.06</td>\n",
              "      <td>103.10</td>\n",
              "      <td>103.08</td>\n",
              "      <td>103.06</td>\n",
              "      <td>28</td>\n",
              "      <td>0.001751</td>\n",
              "      <td>0.001695</td>\n",
              "      <td>0.001846</td>\n",
              "      <td>0.001873</td>\n",
              "      <td>0.001858</td>\n",
              "      <td>0.002022</td>\n",
              "      <td>0.001924</td>\n",
              "      <td>0.001741</td>\n",
              "      <td>0.001810</td>\n",
              "      <td>0.001879</td>\n",
              "    </tr>\n",
              "    <tr>\n",
              "      <th>5</th>\n",
              "      <td>20</td>\n",
              "      <td>CAN 2.25 March 1 2024</td>\n",
              "      <td>CA135087J546</td>\n",
              "      <td>2018-10-05</td>\n",
              "      <td>2024-03-01</td>\n",
              "      <td>0.0225</td>\n",
              "      <td>106.21</td>\n",
              "      <td>106.21</td>\n",
              "      <td>106.17</td>\n",
              "      <td>106.15</td>\n",
              "      <td>106.17</td>\n",
              "      <td>106.12</td>\n",
              "      <td>106.18</td>\n",
              "      <td>106.22</td>\n",
              "      <td>106.19</td>\n",
              "      <td>106.18</td>\n",
              "      <td>37</td>\n",
              "      <td>0.002500</td>\n",
              "      <td>0.002483</td>\n",
              "      <td>0.002591</td>\n",
              "      <td>0.002637</td>\n",
              "      <td>0.002557</td>\n",
              "      <td>0.002663</td>\n",
              "      <td>0.002458</td>\n",
              "      <td>0.002316</td>\n",
              "      <td>0.002393</td>\n",
              "      <td>0.002407</td>\n",
              "    </tr>\n",
              "    <tr>\n",
              "      <th>6</th>\n",
              "      <td>23</td>\n",
              "      <td>CAN 1.5 Sept 1 2024</td>\n",
              "      <td>CA135087J967</td>\n",
              "      <td>2019-04-05</td>\n",
              "      <td>2024-09-01</td>\n",
              "      <td>0.0150</td>\n",
              "      <td>104.27</td>\n",
              "      <td>104.28</td>\n",
              "      <td>104.25</td>\n",
              "      <td>104.19</td>\n",
              "      <td>104.24</td>\n",
              "      <td>104.29</td>\n",
              "      <td>104.26</td>\n",
              "      <td>104.32</td>\n",
              "      <td>104.24</td>\n",
              "      <td>104.24</td>\n",
              "      <td>43</td>\n",
              "      <td>0.003125</td>\n",
              "      <td>0.003089</td>\n",
              "      <td>0.003162</td>\n",
              "      <td>0.003317</td>\n",
              "      <td>0.003172</td>\n",
              "      <td>0.003009</td>\n",
              "      <td>0.003082</td>\n",
              "      <td>0.002910</td>\n",
              "      <td>0.003120</td>\n",
              "      <td>0.003111</td>\n",
              "    </tr>\n",
              "    <tr>\n",
              "      <th>7</th>\n",
              "      <td>24</td>\n",
              "      <td>CAN 1.25 March 1 2025</td>\n",
              "      <td>CA135087K528</td>\n",
              "      <td>2019-10-11</td>\n",
              "      <td>2025-03-01</td>\n",
              "      <td>0.0125</td>\n",
              "      <td>103.60</td>\n",
              "      <td>103.60</td>\n",
              "      <td>103.59</td>\n",
              "      <td>103.51</td>\n",
              "      <td>103.54</td>\n",
              "      <td>103.62</td>\n",
              "      <td>103.59</td>\n",
              "      <td>103.66</td>\n",
              "      <td>103.61</td>\n",
              "      <td>103.57</td>\n",
              "      <td>49</td>\n",
              "      <td>0.003686</td>\n",
              "      <td>0.003680</td>\n",
              "      <td>0.003698</td>\n",
              "      <td>0.003885</td>\n",
              "      <td>0.003807</td>\n",
              "      <td>0.003597</td>\n",
              "      <td>0.003664</td>\n",
              "      <td>0.003489</td>\n",
              "      <td>0.003604</td>\n",
              "      <td>0.003695</td>\n",
              "    </tr>\n",
              "    <tr>\n",
              "      <th>8</th>\n",
              "      <td>27</td>\n",
              "      <td>CAN 0.5 Sept 1 2025</td>\n",
              "      <td>CA135087K940</td>\n",
              "      <td>2020-04-03</td>\n",
              "      <td>2025-09-01</td>\n",
              "      <td>0.0050</td>\n",
              "      <td>100.33</td>\n",
              "      <td>100.32</td>\n",
              "      <td>100.30</td>\n",
              "      <td>100.22</td>\n",
              "      <td>100.27</td>\n",
              "      <td>100.37</td>\n",
              "      <td>100.33</td>\n",
              "      <td>100.42</td>\n",
              "      <td>100.35</td>\n",
              "      <td>100.33</td>\n",
              "      <td>55</td>\n",
              "      <td>0.004278</td>\n",
              "      <td>0.004299</td>\n",
              "      <td>0.004342</td>\n",
              "      <td>0.004517</td>\n",
              "      <td>0.004407</td>\n",
              "      <td>0.004187</td>\n",
              "      <td>0.004274</td>\n",
              "      <td>0.004076</td>\n",
              "      <td>0.004229</td>\n",
              "      <td>0.004273</td>\n",
              "    </tr>\n",
              "    <tr>\n",
              "      <th>9</th>\n",
              "      <td>28</td>\n",
              "      <td>CAN 0.25 March 1 2026</td>\n",
              "      <td>CA135087L518</td>\n",
              "      <td>2020-10-09</td>\n",
              "      <td>2026-03-01</td>\n",
              "      <td>0.0025</td>\n",
              "      <td>98.78</td>\n",
              "      <td>98.77</td>\n",
              "      <td>98.76</td>\n",
              "      <td>98.66</td>\n",
              "      <td>98.71</td>\n",
              "      <td>98.84</td>\n",
              "      <td>98.83</td>\n",
              "      <td>98.93</td>\n",
              "      <td>98.86</td>\n",
              "      <td>98.81</td>\n",
              "      <td>61</td>\n",
              "      <td>0.004916</td>\n",
              "      <td>0.004937</td>\n",
              "      <td>0.004959</td>\n",
              "      <td>0.005160</td>\n",
              "      <td>0.005061</td>\n",
              "      <td>0.004805</td>\n",
              "      <td>0.004826</td>\n",
              "      <td>0.004628</td>\n",
              "      <td>0.004769</td>\n",
              "      <td>0.004870</td>\n",
              "    </tr>\n",
              "  </tbody>\n",
              "</table>\n",
              "</div>"
            ],
            "text/plain": [
              "   index               Bond_Name          ISIN  ... ytm27-Jan ytm28-Jan  ytm29-Jan\n",
              "0      6   CAN 1.5 August 1 2021  CA135087K296  ...  0.001060  0.001181   0.001106\n",
              "1      9      CAN 1.5 Feb 1 2022  CA135087K601  ...  0.001219  0.001281   0.001244\n",
              "2     14  CAN 0.25 August 1 2022  CA135087L286  ...  0.001372  0.001304   0.001302\n",
              "3     16     CAN 0.25 Feb 1 2023  CA135087L773  ...  0.001901  0.001901   0.001850\n",
              "4     18     CAN 1.5 June 1 2023  CA135087A610  ...  0.001741  0.001810   0.001879\n",
              "5     20   CAN 2.25 March 1 2024  CA135087J546  ...  0.002316  0.002393   0.002407\n",
              "6     23     CAN 1.5 Sept 1 2024  CA135087J967  ...  0.002910  0.003120   0.003111\n",
              "7     24   CAN 1.25 March 1 2025  CA135087K528  ...  0.003489  0.003604   0.003695\n",
              "8     27     CAN 0.5 Sept 1 2025  CA135087K940  ...  0.004076  0.004229   0.004273\n",
              "9     28   CAN 0.25 March 1 2026  CA135087L518  ...  0.004628  0.004769   0.004870\n",
              "\n",
              "[10 rows x 27 columns]"
            ]
          },
          "metadata": {
            "tags": []
          },
          "execution_count": 32
        }
      ]
    },
    {
      "cell_type": "code",
      "metadata": {
        "id": "wUqVPrFqLkjf"
      },
      "source": [
        "# Defining 1Y forward rates starting at year 1\n",
        "fwd_rates = {}\n",
        "\n",
        "for elem in ['18-Jan','19-Jan','20-Jan','21-Jan','22-Jan','25-Jan','26-Jan','27-Jan','28-Jan','29-Jan']:\n",
        "    spot_1 = spot_rates[elem][1]\n",
        "    spot_2 = spot_rates[elem][3]\n",
        "    fwd_rates[elem] = calculating_1Y_fwd_rates(spot_1,1,spot_2,2)"
      ],
      "execution_count": 33,
      "outputs": []
    },
    {
      "cell_type": "code",
      "metadata": {
        "id": "XWi8YMCwQWKT"
      },
      "source": [
        "fwd_rates = pd.DataFrame(fwd_rates, index= ['0'])"
      ],
      "execution_count": 34,
      "outputs": []
    },
    {
      "cell_type": "code",
      "metadata": {
        "colab": {
          "base_uri": "https://localhost:8080/",
          "height": 80
        },
        "id": "-jViTN7PGFZr",
        "outputId": "5ec88071-45fd-4b1b-810e-57a98ad57465"
      },
      "source": [
        "fwd_rates"
      ],
      "execution_count": 35,
      "outputs": [
        {
          "output_type": "execute_result",
          "data": {
            "text/html": [
              "<div>\n",
              "<style scoped>\n",
              "    .dataframe tbody tr th:only-of-type {\n",
              "        vertical-align: middle;\n",
              "    }\n",
              "\n",
              "    .dataframe tbody tr th {\n",
              "        vertical-align: top;\n",
              "    }\n",
              "\n",
              "    .dataframe thead th {\n",
              "        text-align: right;\n",
              "    }\n",
              "</style>\n",
              "<table border=\"1\" class=\"dataframe\">\n",
              "  <thead>\n",
              "    <tr style=\"text-align: right;\">\n",
              "      <th></th>\n",
              "      <th>18-Jan</th>\n",
              "      <th>19-Jan</th>\n",
              "      <th>20-Jan</th>\n",
              "      <th>21-Jan</th>\n",
              "      <th>22-Jan</th>\n",
              "      <th>25-Jan</th>\n",
              "      <th>26-Jan</th>\n",
              "      <th>27-Jan</th>\n",
              "      <th>28-Jan</th>\n",
              "      <th>29-Jan</th>\n",
              "    </tr>\n",
              "  </thead>\n",
              "  <tbody>\n",
              "    <tr>\n",
              "      <th>0</th>\n",
              "      <td>0.001555</td>\n",
              "      <td>0.001606</td>\n",
              "      <td>0.001558</td>\n",
              "      <td>0.001508</td>\n",
              "      <td>0.001508</td>\n",
              "      <td>0.001509</td>\n",
              "      <td>0.001458</td>\n",
              "      <td>0.001357</td>\n",
              "      <td>0.001308</td>\n",
              "      <td>0.001257</td>\n",
              "    </tr>\n",
              "  </tbody>\n",
              "</table>\n",
              "</div>"
            ],
            "text/plain": [
              "     18-Jan    19-Jan    20-Jan  ...    27-Jan    28-Jan    29-Jan\n",
              "0  0.001555  0.001606  0.001558  ...  0.001357  0.001308  0.001257\n",
              "\n",
              "[1 rows x 10 columns]"
            ]
          },
          "metadata": {
            "tags": []
          },
          "execution_count": 35
        }
      ]
    },
    {
      "cell_type": "code",
      "metadata": {
        "id": "NKF8DGjSD9Fa"
      },
      "source": [
        "# Defining 1Y forward rates starting at year 3\n",
        "fwd_2 = []\n",
        "\n",
        "for elem in ['18-Jan','19-Jan','20-Jan','21-Jan','22-Jan','25-Jan','26-Jan','27-Jan','28-Jan','29-Jan']:\n",
        "    spot_2 = spot_rates[elem][3]\n",
        "    spot_3 = spot_rates[elem][4] + (spot_rates[elem][5] - spot_rates[elem][4]) * (3 - 28/12)/(37/12 - 28/12)\n",
        "    fwd_2.append(calculating_1Y_fwd_rates(spot_2,2,spot_3,3))\n",
        "\n",
        "fwd_rates.loc[len(fwd_rates)] = fwd_2"
      ],
      "execution_count": 36,
      "outputs": []
    },
    {
      "cell_type": "code",
      "metadata": {
        "id": "6O5sdnPOaycy"
      },
      "source": [
        "# Defining 1Y forward rates starting at year 3\n",
        "fwd_25 = []\n",
        "\n",
        "for elem in ['18-Jan','19-Jan','20-Jan','21-Jan','22-Jan','25-Jan','26-Jan','27-Jan','28-Jan','29-Jan']:\n",
        "    spot_25 = spot_rates[elem][4] + (spot_rates[elem][5] - spot_rates[elem][4]) * (2.5 - 28/12)/(37/12 - 28/12)\n",
        "    spot_35 = spot_rates[elem][5] + (spot_rates[elem][6] - spot_rates[elem][5]) * (3.5 - 37/12)/(43/12 - 37/12)\n",
        "    fwd_25.append(calculating_1Y_fwd_rates(spot_25,2.5,spot_35,3.5)) \n",
        "\n",
        "fwd_rates.loc[len(fwd_rates)] = fwd_25"
      ],
      "execution_count": 37,
      "outputs": []
    },
    {
      "cell_type": "code",
      "metadata": {
        "id": "jRHLrzqOUi4R"
      },
      "source": [
        "# Defining 1Y forward rates starting at year 3\n",
        "fwd_3 = []\n",
        "\n",
        "for elem in ['18-Jan','19-Jan','20-Jan','21-Jan','22-Jan','25-Jan','26-Jan','27-Jan','28-Jan','29-Jan']:\n",
        "    spot_3 = spot_rates[elem][4] + (spot_rates[elem][5] - spot_rates[elem][4]) * (3 - 28/12)/(37/12 - 28/12)\n",
        "    spot_4 = spot_rates[elem][6] + (spot_rates[elem][7] - spot_rates[elem][6]) * (4 - 43/12)/(49/12 - 43/12)\n",
        "    fwd_3.append(calculating_1Y_fwd_rates(spot_3,3,spot_4,4)) \n",
        "\n",
        "fwd_rates.loc[len(fwd_rates)] = fwd_3"
      ],
      "execution_count": 38,
      "outputs": []
    },
    {
      "cell_type": "code",
      "metadata": {
        "id": "wyKXZzXpb84M"
      },
      "source": [
        "# Defining 1Y forward rates starting at year 3.5\n",
        "fwd_35 = []\n",
        "\n",
        "for elem in ['18-Jan','19-Jan','20-Jan','21-Jan','22-Jan','25-Jan','26-Jan','27-Jan','28-Jan','29-Jan']:\n",
        "    spot_35 = spot_rates[elem][5] + (spot_rates[elem][6] - spot_rates[elem][5]) * (3.5 - 37/12)/(43/12 - 37/12)\n",
        "    spot_45 = spot_rates[elem][7] + (spot_rates[elem][8] - spot_rates[elem][7]) * (4.5 - 49/12)/(55/12 - 49/12)\n",
        "    fwd_35.append(calculating_1Y_fwd_rates(spot_35,3.5,spot_45,4.5)) \n",
        "\n",
        "fwd_rates.loc[len(fwd_rates)] = fwd_35"
      ],
      "execution_count": 39,
      "outputs": []
    },
    {
      "cell_type": "code",
      "metadata": {
        "id": "o9lXwYToVlVv"
      },
      "source": [
        "# Defining 1Y forward rates starting at year 4\n",
        "fwd_4 = []\n",
        "\n",
        "for elem in ['18-Jan','19-Jan','20-Jan','21-Jan','22-Jan','25-Jan','26-Jan','27-Jan','28-Jan','29-Jan']:\n",
        "    spot_4 = spot_rates[elem][6] + (spot_rates[elem][7] - spot_rates[elem][6]) * (4 - 43/12)/(49/12 - 43/12)\n",
        "    spot_5 = spot_rates[elem][8] + (spot_rates[elem][9] - spot_rates[elem][8]) * (5 - 55/12)/(61/12 - 55/12)\n",
        "    fwd_4.append(calculating_1Y_fwd_rates(spot_4,4,spot_5,5)) \n",
        "\n",
        "fwd_rates.loc[len(fwd_rates)] = fwd_4"
      ],
      "execution_count": 40,
      "outputs": []
    },
    {
      "cell_type": "code",
      "metadata": {
        "colab": {
          "base_uri": "https://localhost:8080/",
          "height": 312
        },
        "id": "92h0rzu-YGaw",
        "outputId": "65c8c421-8a60-4e50-8709-87665ef46831"
      },
      "source": [
        "from scipy import interpolate\n",
        "x = [1,2,2.5,3,3.5,4]\n",
        "y1 = fwd_rates['18-Jan']\n",
        "y2 = fwd_rates['19-Jan']\n",
        "y3 = fwd_rates['20-Jan']\n",
        "y4 = fwd_rates['21-Jan']\n",
        "y5 = fwd_rates['22-Jan']\n",
        "y6 = fwd_rates['25-Jan']\n",
        "y7 = fwd_rates['26-Jan']\n",
        "y8 = fwd_rates['27-Jan']\n",
        "y9 = fwd_rates['28-Jan']\n",
        "y10 = fwd_rates['29-Jan']\n",
        "\n",
        "x_new = np.linspace(1, 4, 1000)\n",
        "a_BSpline1 = interpolate.make_interp_spline(x, y1)\n",
        "y_new1 = a_BSpline1(x_new)\n",
        "a_BSpline2 = interpolate.make_interp_spline(x, y2)\n",
        "y_new2 = a_BSpline2(x_new)\n",
        "a_BSpline3 = interpolate.make_interp_spline(x, y3)\n",
        "y_new3 = a_BSpline3(x_new)\n",
        "a_BSpline4 = interpolate.make_interp_spline(x, y4)\n",
        "y_new4 = a_BSpline4(x_new)\n",
        "a_BSpline5 = interpolate.make_interp_spline(x, y5)\n",
        "y_new5 = a_BSpline5(x_new)\n",
        "a_BSpline6 = interpolate.make_interp_spline(x, y6)\n",
        "y_new6 = a_BSpline6(x_new)\n",
        "a_BSpline7 = interpolate.make_interp_spline(x, y7)\n",
        "y_new7 = a_BSpline7(x_new)\n",
        "a_BSpline8 = interpolate.make_interp_spline(x, y8)\n",
        "y_new8 = a_BSpline8(x_new)\n",
        "a_BSpline9 = interpolate.make_interp_spline(x, y9)\n",
        "y_new9 = a_BSpline9(x_new)\n",
        "a_BSpline10 = interpolate.make_interp_spline(x, y10)\n",
        "y_new10 = a_BSpline10(x_new)\n",
        "\n",
        "plt.plot(x_new, y_new1)\n",
        "plt.plot(x_new, y_new2)\n",
        "plt.plot(x_new, y_new3)\n",
        "plt.plot(x_new, y_new4)\n",
        "plt.plot(x_new, y_new5)\n",
        "plt.plot(x_new, y_new6)\n",
        "plt.plot(x_new, y_new7)\n",
        "plt.plot(x_new, y_new8)\n",
        "plt.plot(x_new, y_new9)\n",
        "plt.plot(x_new, y_new10)\n",
        "\n",
        "plt.legend([\"Jan 18\", \"Jan 19\", \"Jan 20\", \"Jan 21\", \"Jan 22\", \"Jan 25\", \"Jan 26\", \"Jan 27\", \"Jan 28\", \"Jan 29\"],loc='best')\n",
        "plt.xlabel('Term to Maturity (years)')\n",
        "plt.ylabel('1 Year Forward rate')\n",
        "plt.title('1-Year Forward Rate curve')"
      ],
      "execution_count": 41,
      "outputs": [
        {
          "output_type": "execute_result",
          "data": {
            "text/plain": [
              "Text(0.5, 1.0, '1-Year Forward Rate curve')"
            ]
          },
          "metadata": {
            "tags": []
          },
          "execution_count": 41
        },
        {
          "output_type": "display_data",
          "data": {
            "image/png": "[encoded data removed]",
            "text/plain": [
              "<Figure size 432x288 with 1 Axes>"
            ]
          },
          "metadata": {
            "tags": [],
            "needs_background": "light"
          }
        }
      ]
    },
    {
      "cell_type": "markdown",
      "metadata": {
        "id": "QbMk9kcVdLJY"
      },
      "source": [
        "Covariance Matrices"
      ]
    },
    {
      "cell_type": "code",
      "metadata": {
        "colab": {
          "base_uri": "https://localhost:8080/",
          "height": 668
        },
        "id": "eD8Ua9SV7ry9",
        "outputId": "1c737497-1fd9-4fe9-e272-708e5d263cc1"
      },
      "source": [
        "df"
      ],
      "execution_count": 117,
      "outputs": [
        {
          "output_type": "execute_result",
          "data": {
            "text/html": [
              "<div>\n",
              "<style scoped>\n",
              "    .dataframe tbody tr th:only-of-type {\n",
              "        vertical-align: middle;\n",
              "    }\n",
              "\n",
              "    .dataframe tbody tr th {\n",
              "        vertical-align: top;\n",
              "    }\n",
              "\n",
              "    .dataframe thead th {\n",
              "        text-align: right;\n",
              "    }\n",
              "</style>\n",
              "<table border=\"1\" class=\"dataframe\">\n",
              "  <thead>\n",
              "    <tr style=\"text-align: right;\">\n",
              "      <th></th>\n",
              "      <th>index</th>\n",
              "      <th>Bond_Name</th>\n",
              "      <th>ISIN</th>\n",
              "      <th>Issue_Date</th>\n",
              "      <th>Maturity_Date</th>\n",
              "      <th>Coupon</th>\n",
              "      <th>18-Jan</th>\n",
              "      <th>19-Jan</th>\n",
              "      <th>20-Jan</th>\n",
              "      <th>21-Jan</th>\n",
              "      <th>22-Jan</th>\n",
              "      <th>25-Jan</th>\n",
              "      <th>26-Jan</th>\n",
              "      <th>27-Jan</th>\n",
              "      <th>28-Jan</th>\n",
              "      <th>29-Jan</th>\n",
              "      <th>num_months</th>\n",
              "      <th>ytm18-Jan</th>\n",
              "      <th>ytm19-Jan</th>\n",
              "      <th>ytm20-Jan</th>\n",
              "      <th>ytm21-Jan</th>\n",
              "      <th>ytm22-Jan</th>\n",
              "      <th>ytm25-Jan</th>\n",
              "      <th>ytm26-Jan</th>\n",
              "      <th>ytm27-Jan</th>\n",
              "      <th>ytm28-Jan</th>\n",
              "      <th>ytm29-Jan</th>\n",
              "    </tr>\n",
              "  </thead>\n",
              "  <tbody>\n",
              "    <tr>\n",
              "      <th>0</th>\n",
              "      <td>6</td>\n",
              "      <td>CAN 1.5 August 1 2021</td>\n",
              "      <td>CA135087K296</td>\n",
              "      <td>2019-05-06</td>\n",
              "      <td>2021-08-01</td>\n",
              "      <td>0.0150</td>\n",
              "      <td>100.76</td>\n",
              "      <td>100.75</td>\n",
              "      <td>100.73</td>\n",
              "      <td>100.72</td>\n",
              "      <td>100.72</td>\n",
              "      <td>100.71</td>\n",
              "      <td>100.71</td>\n",
              "      <td>100.71</td>\n",
              "      <td>100.70</td>\n",
              "      <td>100.70</td>\n",
              "      <td>6</td>\n",
              "      <td>0.000769</td>\n",
              "      <td>0.000883</td>\n",
              "      <td>0.001186</td>\n",
              "      <td>0.001303</td>\n",
              "      <td>0.001232</td>\n",
              "      <td>0.001207</td>\n",
              "      <td>0.001134</td>\n",
              "      <td>0.001060</td>\n",
              "      <td>0.001181</td>\n",
              "      <td>0.001106</td>\n",
              "    </tr>\n",
              "    <tr>\n",
              "      <th>1</th>\n",
              "      <td>9</td>\n",
              "      <td>CAN 1.5 Feb 1 2022</td>\n",
              "      <td>CA135087K601</td>\n",
              "      <td>2019-11-04</td>\n",
              "      <td>2022-02-01</td>\n",
              "      <td>0.0150</td>\n",
              "      <td>101.44</td>\n",
              "      <td>101.44</td>\n",
              "      <td>101.41</td>\n",
              "      <td>101.40</td>\n",
              "      <td>101.40</td>\n",
              "      <td>101.38</td>\n",
              "      <td>101.38</td>\n",
              "      <td>101.39</td>\n",
              "      <td>101.38</td>\n",
              "      <td>101.38</td>\n",
              "      <td>12</td>\n",
              "      <td>0.001065</td>\n",
              "      <td>0.001029</td>\n",
              "      <td>0.001281</td>\n",
              "      <td>0.001341</td>\n",
              "      <td>0.001305</td>\n",
              "      <td>0.001390</td>\n",
              "      <td>0.001354</td>\n",
              "      <td>0.001219</td>\n",
              "      <td>0.001281</td>\n",
              "      <td>0.001244</td>\n",
              "    </tr>\n",
              "    <tr>\n",
              "      <th>2</th>\n",
              "      <td>14</td>\n",
              "      <td>CAN 0.25 August 1 2022</td>\n",
              "      <td>CA135087L286</td>\n",
              "      <td>2020-05-04</td>\n",
              "      <td>2022-08-01</td>\n",
              "      <td>0.0025</td>\n",
              "      <td>100.20</td>\n",
              "      <td>100.19</td>\n",
              "      <td>100.16</td>\n",
              "      <td>100.16</td>\n",
              "      <td>100.16</td>\n",
              "      <td>100.14</td>\n",
              "      <td>100.15</td>\n",
              "      <td>100.17</td>\n",
              "      <td>100.18</td>\n",
              "      <td>100.18</td>\n",
              "      <td>18</td>\n",
              "      <td>0.001195</td>\n",
              "      <td>0.001258</td>\n",
              "      <td>0.001452</td>\n",
              "      <td>0.001450</td>\n",
              "      <td>0.001448</td>\n",
              "      <td>0.001574</td>\n",
              "      <td>0.001507</td>\n",
              "      <td>0.001372</td>\n",
              "      <td>0.001304</td>\n",
              "      <td>0.001302</td>\n",
              "    </tr>\n",
              "    <tr>\n",
              "      <th>3</th>\n",
              "      <td>16</td>\n",
              "      <td>CAN 0.25 Feb 1 2023</td>\n",
              "      <td>CA135087L773</td>\n",
              "      <td>2020-10-26</td>\n",
              "      <td>2023-02-01</td>\n",
              "      <td>0.0025</td>\n",
              "      <td>100.13</td>\n",
              "      <td>100.12</td>\n",
              "      <td>100.10</td>\n",
              "      <td>100.10</td>\n",
              "      <td>100.10</td>\n",
              "      <td>100.08</td>\n",
              "      <td>100.09</td>\n",
              "      <td>100.12</td>\n",
              "      <td>100.12</td>\n",
              "      <td>100.13</td>\n",
              "      <td>24</td>\n",
              "      <td>0.001859</td>\n",
              "      <td>0.001908</td>\n",
              "      <td>0.002006</td>\n",
              "      <td>0.002005</td>\n",
              "      <td>0.002004</td>\n",
              "      <td>0.002102</td>\n",
              "      <td>0.002052</td>\n",
              "      <td>0.001901</td>\n",
              "      <td>0.001901</td>\n",
              "      <td>0.001850</td>\n",
              "    </tr>\n",
              "    <tr>\n",
              "      <th>4</th>\n",
              "      <td>18</td>\n",
              "      <td>CAN 1.5 June 1 2023</td>\n",
              "      <td>CA135087A610</td>\n",
              "      <td>2012-07-30</td>\n",
              "      <td>2023-06-01</td>\n",
              "      <td>0.0150</td>\n",
              "      <td>103.13</td>\n",
              "      <td>103.14</td>\n",
              "      <td>103.10</td>\n",
              "      <td>103.09</td>\n",
              "      <td>103.09</td>\n",
              "      <td>103.04</td>\n",
              "      <td>103.06</td>\n",
              "      <td>103.10</td>\n",
              "      <td>103.08</td>\n",
              "      <td>103.06</td>\n",
              "      <td>28</td>\n",
              "      <td>0.001751</td>\n",
              "      <td>0.001695</td>\n",
              "      <td>0.001846</td>\n",
              "      <td>0.001873</td>\n",
              "      <td>0.001858</td>\n",
              "      <td>0.002022</td>\n",
              "      <td>0.001924</td>\n",
              "      <td>0.001741</td>\n",
              "      <td>0.001810</td>\n",
              "      <td>0.001879</td>\n",
              "    </tr>\n",
              "    <tr>\n",
              "      <th>5</th>\n",
              "      <td>20</td>\n",
              "      <td>CAN 2.25 March 1 2024</td>\n",
              "      <td>CA135087J546</td>\n",
              "      <td>2018-10-05</td>\n",
              "      <td>2024-03-01</td>\n",
              "      <td>0.0225</td>\n",
              "      <td>106.21</td>\n",
              "      <td>106.21</td>\n",
              "      <td>106.17</td>\n",
              "      <td>106.15</td>\n",
              "      <td>106.17</td>\n",
              "      <td>106.12</td>\n",
              "      <td>106.18</td>\n",
              "      <td>106.22</td>\n",
              "      <td>106.19</td>\n",
              "      <td>106.18</td>\n",
              "      <td>37</td>\n",
              "      <td>0.002500</td>\n",
              "      <td>0.002483</td>\n",
              "      <td>0.002591</td>\n",
              "      <td>0.002637</td>\n",
              "      <td>0.002557</td>\n",
              "      <td>0.002663</td>\n",
              "      <td>0.002458</td>\n",
              "      <td>0.002316</td>\n",
              "      <td>0.002393</td>\n",
              "      <td>0.002407</td>\n",
              "    </tr>\n",
              "    <tr>\n",
              "      <th>6</th>\n",
              "      <td>23</td>\n",
              "      <td>CAN 1.5 Sept 1 2024</td>\n",
              "      <td>CA135087J967</td>\n",
              "      <td>2019-04-05</td>\n",
              "      <td>2024-09-01</td>\n",
              "      <td>0.0150</td>\n",
              "      <td>104.27</td>\n",
              "      <td>104.28</td>\n",
              "      <td>104.25</td>\n",
              "      <td>104.19</td>\n",
              "      <td>104.24</td>\n",
              "      <td>104.29</td>\n",
              "      <td>104.26</td>\n",
              "      <td>104.32</td>\n",
              "      <td>104.24</td>\n",
              "      <td>104.24</td>\n",
              "      <td>43</td>\n",
              "      <td>0.003125</td>\n",
              "      <td>0.003089</td>\n",
              "      <td>0.003162</td>\n",
              "      <td>0.003317</td>\n",
              "      <td>0.003172</td>\n",
              "      <td>0.003009</td>\n",
              "      <td>0.003082</td>\n",
              "      <td>0.002910</td>\n",
              "      <td>0.003120</td>\n",
              "      <td>0.003111</td>\n",
              "    </tr>\n",
              "    <tr>\n",
              "      <th>7</th>\n",
              "      <td>24</td>\n",
              "      <td>CAN 1.25 March 1 2025</td>\n",
              "      <td>CA135087K528</td>\n",
              "      <td>2019-10-11</td>\n",
              "      <td>2025-03-01</td>\n",
              "      <td>0.0125</td>\n",
              "      <td>103.60</td>\n",
              "      <td>103.60</td>\n",
              "      <td>103.59</td>\n",
              "      <td>103.51</td>\n",
              "      <td>103.54</td>\n",
              "      <td>103.62</td>\n",
              "      <td>103.59</td>\n",
              "      <td>103.66</td>\n",
              "      <td>103.61</td>\n",
              "      <td>103.57</td>\n",
              "      <td>49</td>\n",
              "      <td>0.003686</td>\n",
              "      <td>0.003680</td>\n",
              "      <td>0.003698</td>\n",
              "      <td>0.003885</td>\n",
              "      <td>0.003807</td>\n",
              "      <td>0.003597</td>\n",
              "      <td>0.003664</td>\n",
              "      <td>0.003489</td>\n",
              "      <td>0.003604</td>\n",
              "      <td>0.003695</td>\n",
              "    </tr>\n",
              "    <tr>\n",
              "      <th>8</th>\n",
              "      <td>27</td>\n",
              "      <td>CAN 0.5 Sept 1 2025</td>\n",
              "      <td>CA135087K940</td>\n",
              "      <td>2020-04-03</td>\n",
              "      <td>2025-09-01</td>\n",
              "      <td>0.0050</td>\n",
              "      <td>100.33</td>\n",
              "      <td>100.32</td>\n",
              "      <td>100.30</td>\n",
              "      <td>100.22</td>\n",
              "      <td>100.27</td>\n",
              "      <td>100.37</td>\n",
              "      <td>100.33</td>\n",
              "      <td>100.42</td>\n",
              "      <td>100.35</td>\n",
              "      <td>100.33</td>\n",
              "      <td>55</td>\n",
              "      <td>0.004278</td>\n",
              "      <td>0.004299</td>\n",
              "      <td>0.004342</td>\n",
              "      <td>0.004517</td>\n",
              "      <td>0.004407</td>\n",
              "      <td>0.004187</td>\n",
              "      <td>0.004274</td>\n",
              "      <td>0.004076</td>\n",
              "      <td>0.004229</td>\n",
              "      <td>0.004273</td>\n",
              "    </tr>\n",
              "    <tr>\n",
              "      <th>9</th>\n",
              "      <td>28</td>\n",
              "      <td>CAN 0.25 March 1 2026</td>\n",
              "      <td>CA135087L518</td>\n",
              "      <td>2020-10-09</td>\n",
              "      <td>2026-03-01</td>\n",
              "      <td>0.0025</td>\n",
              "      <td>98.78</td>\n",
              "      <td>98.77</td>\n",
              "      <td>98.76</td>\n",
              "      <td>98.66</td>\n",
              "      <td>98.71</td>\n",
              "      <td>98.84</td>\n",
              "      <td>98.83</td>\n",
              "      <td>98.93</td>\n",
              "      <td>98.86</td>\n",
              "      <td>98.81</td>\n",
              "      <td>61</td>\n",
              "      <td>0.004916</td>\n",
              "      <td>0.004937</td>\n",
              "      <td>0.004959</td>\n",
              "      <td>0.005160</td>\n",
              "      <td>0.005061</td>\n",
              "      <td>0.004805</td>\n",
              "      <td>0.004826</td>\n",
              "      <td>0.004628</td>\n",
              "      <td>0.004769</td>\n",
              "      <td>0.004870</td>\n",
              "    </tr>\n",
              "  </tbody>\n",
              "</table>\n",
              "</div>"
            ],
            "text/plain": [
              "   index               Bond_Name          ISIN  ... ytm27-Jan ytm28-Jan  ytm29-Jan\n",
              "0      6   CAN 1.5 August 1 2021  CA135087K296  ...  0.001060  0.001181   0.001106\n",
              "1      9      CAN 1.5 Feb 1 2022  CA135087K601  ...  0.001219  0.001281   0.001244\n",
              "2     14  CAN 0.25 August 1 2022  CA135087L286  ...  0.001372  0.001304   0.001302\n",
              "3     16     CAN 0.25 Feb 1 2023  CA135087L773  ...  0.001901  0.001901   0.001850\n",
              "4     18     CAN 1.5 June 1 2023  CA135087A610  ...  0.001741  0.001810   0.001879\n",
              "5     20   CAN 2.25 March 1 2024  CA135087J546  ...  0.002316  0.002393   0.002407\n",
              "6     23     CAN 1.5 Sept 1 2024  CA135087J967  ...  0.002910  0.003120   0.003111\n",
              "7     24   CAN 1.25 March 1 2025  CA135087K528  ...  0.003489  0.003604   0.003695\n",
              "8     27     CAN 0.5 Sept 1 2025  CA135087K940  ...  0.004076  0.004229   0.004273\n",
              "9     28   CAN 0.25 March 1 2026  CA135087L518  ...  0.004628  0.004769   0.004870\n",
              "\n",
              "[10 rows x 27 columns]"
            ]
          },
          "metadata": {
            "tags": []
          },
          "execution_count": 117
        }
      ]
    },
    {
      "cell_type": "code",
      "metadata": {
        "id": "lTTLCBQwdJaF"
      },
      "source": [
        "return_matrix = {}\n",
        "dates = ['ytm18-Jan','ytm19-Jan','ytm20-Jan','ytm21-Jan','ytm22-Jan','ytm25-Jan','ytm26-Jan','ytm27-Jan','ytm28-Jan','ytm29-Jan']\n",
        "ret_dict = {}\n",
        "for i in range(0,10): #Loop through bonds\n",
        "  ret_list = []\n",
        "  for j in range(0,9): #Loop through dates\n",
        "    ret = math.log(df[dates[j+1]][i]/df[dates[j]][i])\n",
        "    ret_list.append(ret)\n",
        "  ret_dict[i] = ret_list\n"
      ],
      "execution_count": 119,
      "outputs": []
    },
    {
      "cell_type": "code",
      "metadata": {
        "id": "mIz_mKDH1k0M"
      },
      "source": [
        "index1 = list(ret_dict.keys())\n",
        "ret_df = pd.DataFrame(ret_dict, index= index1[0:9])"
      ],
      "execution_count": 120,
      "outputs": []
    },
    {
      "cell_type": "code",
      "metadata": {
        "id": "lVglJ9i88IyR"
      },
      "source": [
        "ret_df = ret_df.loc[:, [1, 3, 5, 7, 9]]\n",
        "ret_df = ret_df.T"
      ],
      "execution_count": 121,
      "outputs": []
    },
    {
      "cell_type": "code",
      "metadata": {
        "colab": {
          "base_uri": "https://localhost:8080/",
          "height": 204
        },
        "id": "OOXuj24w2LoW",
        "outputId": "50b600c8-060f-428d-8df8-1de845f2a7a5"
      },
      "source": [
        "ret_df"
      ],
      "execution_count": 122,
      "outputs": [
        {
          "output_type": "execute_result",
          "data": {
            "text/html": [
              "<div>\n",
              "<style scoped>\n",
              "    .dataframe tbody tr th:only-of-type {\n",
              "        vertical-align: middle;\n",
              "    }\n",
              "\n",
              "    .dataframe tbody tr th {\n",
              "        vertical-align: top;\n",
              "    }\n",
              "\n",
              "    .dataframe thead th {\n",
              "        text-align: right;\n",
              "    }\n",
              "</style>\n",
              "<table border=\"1\" class=\"dataframe\">\n",
              "  <thead>\n",
              "    <tr style=\"text-align: right;\">\n",
              "      <th></th>\n",
              "      <th>0</th>\n",
              "      <th>1</th>\n",
              "      <th>2</th>\n",
              "      <th>3</th>\n",
              "      <th>4</th>\n",
              "      <th>5</th>\n",
              "      <th>6</th>\n",
              "      <th>7</th>\n",
              "      <th>8</th>\n",
              "    </tr>\n",
              "  </thead>\n",
              "  <tbody>\n",
              "    <tr>\n",
              "      <th>1</th>\n",
              "      <td>-0.034947</td>\n",
              "      <td>0.219102</td>\n",
              "      <td>0.046028</td>\n",
              "      <td>-0.027329</td>\n",
              "      <td>0.063507</td>\n",
              "      <td>-0.026539</td>\n",
              "      <td>-0.104814</td>\n",
              "      <td>0.049062</td>\n",
              "      <td>-0.029329</td>\n",
              "    </tr>\n",
              "    <tr>\n",
              "      <th>3</th>\n",
              "      <td>0.025719</td>\n",
              "      <td>0.050071</td>\n",
              "      <td>-0.000332</td>\n",
              "      <td>-0.000333</td>\n",
              "      <td>0.047467</td>\n",
              "      <td>-0.024239</td>\n",
              "      <td>-0.076011</td>\n",
              "      <td>-0.000428</td>\n",
              "      <td>-0.027087</td>\n",
              "    </tr>\n",
              "    <tr>\n",
              "      <th>5</th>\n",
              "      <td>-0.006780</td>\n",
              "      <td>0.042424</td>\n",
              "      <td>0.017408</td>\n",
              "      <td>-0.030510</td>\n",
              "      <td>0.040469</td>\n",
              "      <td>-0.079994</td>\n",
              "      <td>-0.059643</td>\n",
              "      <td>0.032642</td>\n",
              "      <td>0.005933</td>\n",
              "    </tr>\n",
              "    <tr>\n",
              "      <th>7</th>\n",
              "      <td>-0.001548</td>\n",
              "      <td>0.004966</td>\n",
              "      <td>0.049262</td>\n",
              "      <td>-0.020234</td>\n",
              "      <td>-0.056689</td>\n",
              "      <td>0.018337</td>\n",
              "      <td>-0.048843</td>\n",
              "      <td>0.032385</td>\n",
              "      <td>0.024905</td>\n",
              "    </tr>\n",
              "    <tr>\n",
              "      <th>9</th>\n",
              "      <td>0.004311</td>\n",
              "      <td>0.004297</td>\n",
              "      <td>0.039770</td>\n",
              "      <td>-0.019293</td>\n",
              "      <td>-0.051923</td>\n",
              "      <td>0.004412</td>\n",
              "      <td>-0.042081</td>\n",
              "      <td>0.030074</td>\n",
              "      <td>0.021048</td>\n",
              "    </tr>\n",
              "  </tbody>\n",
              "</table>\n",
              "</div>"
            ],
            "text/plain": [
              "          0         1         2  ...         6         7         8\n",
              "1 -0.034947  0.219102  0.046028  ... -0.104814  0.049062 -0.029329\n",
              "3  0.025719  0.050071 -0.000332  ... -0.076011 -0.000428 -0.027087\n",
              "5 -0.006780  0.042424  0.017408  ... -0.059643  0.032642  0.005933\n",
              "7 -0.001548  0.004966  0.049262  ... -0.048843  0.032385  0.024905\n",
              "9  0.004311  0.004297  0.039770  ... -0.042081  0.030074  0.021048\n",
              "\n",
              "[5 rows x 9 columns]"
            ]
          },
          "metadata": {
            "tags": []
          },
          "execution_count": 122
        }
      ]
    },
    {
      "cell_type": "code",
      "metadata": {
        "id": "w2lOcncegVf9"
      },
      "source": [
        "dates = ['18-Jan','19-Jan','20-Jan','21-Jan','22-Jan','25-Jan','26-Jan','27-Jan','28-Jan','29-Jan']\n",
        "ret_dict_fwd = {}\n",
        "for i in range(0,6): #Loop through bonds\n",
        "  ret_list_fwd = []\n",
        "  for j in range(0,9): #Loop through dates\n",
        "    if i == 0:\n",
        "      ret = math.log(fwd_rates[dates[j+1]][:-5]/fwd_rates[dates[j]][:-5])\n",
        "    else:\n",
        "      ret = math.log(fwd_rates[dates[j+1]][i]/fwd_rates[dates[j]][i])\n",
        "    ret_list_fwd.append(ret)\n",
        "  ret_dict_fwd[i] = ret_list_fwd"
      ],
      "execution_count": 123,
      "outputs": []
    },
    {
      "cell_type": "code",
      "metadata": {
        "id": "zxyR6KsghNWY"
      },
      "source": [
        "index2 = list(ret_dict.keys())\n",
        "ret_df_fwd = pd.DataFrame(ret_dict_fwd, index= index2[0:9])"
      ],
      "execution_count": 124,
      "outputs": []
    },
    {
      "cell_type": "code",
      "metadata": {
        "id": "vhdX11YkwN0B"
      },
      "source": [
        "ret_df_fwd = ret_df_fwd.loc[:, [0, 1, 3, 5]]\n",
        "ret_df_fwd = ret_df_fwd.T"
      ],
      "execution_count": 125,
      "outputs": []
    },
    {
      "cell_type": "code",
      "metadata": {
        "colab": {
          "base_uri": "https://localhost:8080/",
          "height": 173
        },
        "id": "fnZT4alP5ygt",
        "outputId": "df19d7bc-c02b-4210-b840-a639e0e77b47"
      },
      "source": [
        "ret_df_fwd"
      ],
      "execution_count": 126,
      "outputs": [
        {
          "output_type": "execute_result",
          "data": {
            "text/html": [
              "<div>\n",
              "<style scoped>\n",
              "    .dataframe tbody tr th:only-of-type {\n",
              "        vertical-align: middle;\n",
              "    }\n",
              "\n",
              "    .dataframe tbody tr th {\n",
              "        vertical-align: top;\n",
              "    }\n",
              "\n",
              "    .dataframe thead th {\n",
              "        text-align: right;\n",
              "    }\n",
              "</style>\n",
              "<table border=\"1\" class=\"dataframe\">\n",
              "  <thead>\n",
              "    <tr style=\"text-align: right;\">\n",
              "      <th></th>\n",
              "      <th>0</th>\n",
              "      <th>1</th>\n",
              "      <th>2</th>\n",
              "      <th>3</th>\n",
              "      <th>4</th>\n",
              "      <th>5</th>\n",
              "      <th>6</th>\n",
              "      <th>7</th>\n",
              "      <th>8</th>\n",
              "    </tr>\n",
              "  </thead>\n",
              "  <tbody>\n",
              "    <tr>\n",
              "      <th>0</th>\n",
              "      <td>0.031949</td>\n",
              "      <td>-0.030500</td>\n",
              "      <td>-0.032260</td>\n",
              "      <td>-0.000146</td>\n",
              "      <td>0.000395</td>\n",
              "      <td>-0.033969</td>\n",
              "      <td>-0.071710</td>\n",
              "      <td>-0.037055</td>\n",
              "      <td>-0.039313</td>\n",
              "    </tr>\n",
              "    <tr>\n",
              "      <th>1</th>\n",
              "      <td>-0.012338</td>\n",
              "      <td>0.014824</td>\n",
              "      <td>0.016661</td>\n",
              "      <td>-0.015467</td>\n",
              "      <td>0.024417</td>\n",
              "      <td>-0.038931</td>\n",
              "      <td>-0.004970</td>\n",
              "      <td>0.026281</td>\n",
              "      <td>0.020922</td>\n",
              "    </tr>\n",
              "    <tr>\n",
              "      <th>3</th>\n",
              "      <td>-0.000033</td>\n",
              "      <td>-0.054073</td>\n",
              "      <td>0.120113</td>\n",
              "      <td>-0.033876</td>\n",
              "      <td>-0.284988</td>\n",
              "      <td>0.198588</td>\n",
              "      <td>-0.064958</td>\n",
              "      <td>0.061980</td>\n",
              "      <td>0.045499</td>\n",
              "    </tr>\n",
              "    <tr>\n",
              "      <th>5</th>\n",
              "      <td>0.019638</td>\n",
              "      <td>-0.000190</td>\n",
              "      <td>0.036229</td>\n",
              "      <td>-0.027829</td>\n",
              "      <td>-0.086863</td>\n",
              "      <td>-0.025083</td>\n",
              "      <td>-0.061715</td>\n",
              "      <td>0.031246</td>\n",
              "      <td>0.023720</td>\n",
              "    </tr>\n",
              "  </tbody>\n",
              "</table>\n",
              "</div>"
            ],
            "text/plain": [
              "          0         1         2  ...         6         7         8\n",
              "0  0.031949 -0.030500 -0.032260  ... -0.071710 -0.037055 -0.039313\n",
              "1 -0.012338  0.014824  0.016661  ... -0.004970  0.026281  0.020922\n",
              "3 -0.000033 -0.054073  0.120113  ... -0.064958  0.061980  0.045499\n",
              "5  0.019638 -0.000190  0.036229  ... -0.061715  0.031246  0.023720\n",
              "\n",
              "[4 rows x 9 columns]"
            ]
          },
          "metadata": {
            "tags": []
          },
          "execution_count": 126
        }
      ]
    },
    {
      "cell_type": "code",
      "metadata": {
        "id": "ID5f3LmLPV7l"
      },
      "source": [
        "cov_yields = np.cov(ret_df)\n",
        "cov_fwds = np.cov(ret_df_fwd)"
      ],
      "execution_count": 127,
      "outputs": []
    },
    {
      "cell_type": "code",
      "metadata": {
        "colab": {
          "base_uri": "https://localhost:8080/"
        },
        "id": "AQtHWd4zQK9k",
        "outputId": "db025507-d20c-40a9-9dcf-ebdc07423334"
      },
      "source": [
        "cov_yields"
      ],
      "execution_count": 129,
      "outputs": [
        {
          "output_type": "execute_result",
          "data": {
            "text/plain": [
              "array([[8.55283274e-03, 2.81911327e-03, 3.02417766e-03, 7.26229816e-04,\n",
              "        6.45545109e-04],\n",
              "       [2.81911327e-03, 1.56475111e-03, 1.26888992e-03, 1.11844704e-05,\n",
              "        4.47421081e-05],\n",
              "       [3.02417766e-03, 1.26888992e-03, 1.95169697e-03, 2.57978700e-04,\n",
              "        3.19574137e-04],\n",
              "       [7.26229816e-04, 1.11844704e-05, 2.57978700e-04, 1.30838097e-03,\n",
              "        1.11809330e-03],\n",
              "       [6.45545109e-04, 4.47421081e-05, 3.19574137e-04, 1.11809330e-03,\n",
              "        9.76869173e-04]])"
            ]
          },
          "metadata": {
            "tags": []
          },
          "execution_count": 129
        }
      ]
    },
    {
      "cell_type": "code",
      "metadata": {
        "id": "ZOQpfP2XQfs4"
      },
      "source": [
        "eig_vals_yields,eig_vectors_yields = LA.eig(cov_yields)\n",
        "eig_vals_fwds,eig_vectors_fwds = LA.eig(cov_fwds)"
      ],
      "execution_count": 130,
      "outputs": []
    },
    {
      "cell_type": "code",
      "metadata": {
        "colab": {
          "base_uri": "https://localhost:8080/"
        },
        "id": "4HS6Zw6BQynB",
        "outputId": "a4533301-b85b-4cfc-c120-3ecfcd729bfe"
      },
      "source": [
        "eig_vals_yields"
      ],
      "execution_count": 131,
      "outputs": [
        {
          "output_type": "execute_result",
          "data": {
            "text/plain": [
              "array([1.08837410e-02, 2.20722327e-03, 8.44878601e-04, 4.11762520e-04,\n",
              "       6.92553507e-06])"
            ]
          },
          "metadata": {
            "tags": []
          },
          "execution_count": 131
        }
      ]
    },
    {
      "cell_type": "code",
      "metadata": {
        "colab": {
          "base_uri": "https://localhost:8080/"
        },
        "id": "V9vuHFfvQ0_C",
        "outputId": "6620d405-2eb6-4f4a-e2ef-0c09e71cc1d7"
      },
      "source": [
        "eig_vectors_yields"
      ],
      "execution_count": 132,
      "outputs": [
        {
          "output_type": "execute_result",
          "data": {
            "text/plain": [
              "array([[-8.76600438e-01, -4.78041352e-02, -4.56518462e-01,\n",
              "        -1.42223121e-01,  2.54934057e-02],\n",
              "       [-3.12852871e-01, -2.02325864e-01,  3.54810444e-01,\n",
              "         8.57494356e-01,  5.51704826e-04],\n",
              "       [-3.46547398e-01, -2.52078371e-02,  8.09248981e-01,\n",
              "        -4.67181327e-01, -7.82761791e-02],\n",
              "       [-8.54529007e-02,  7.42742323e-01,  5.82009054e-03,\n",
              "         1.42082169e-01, -6.48699026e-01],\n",
              "       [-7.93565048e-02,  6.35985390e-01,  1.03839568e-01,\n",
              "         7.76548682e-02,  7.56579272e-01]])"
            ]
          },
          "metadata": {
            "tags": []
          },
          "execution_count": 132
        }
      ]
    },
    {
      "cell_type": "code",
      "metadata": {
        "colab": {
          "base_uri": "https://localhost:8080/"
        },
        "id": "ng2Lh1P6Q9i-",
        "outputId": "8d964c76-4937-4f46-9598-5e4f6d6738bb"
      },
      "source": [
        "eig_vals_fwds"
      ],
      "execution_count": 109,
      "outputs": [
        {
          "output_type": "execute_result",
          "data": {
            "text/plain": [
              "array([1.96942189e-02, 5.60816705e-05, 1.32699429e-03, 8.69682535e-04])"
            ]
          },
          "metadata": {
            "tags": []
          },
          "execution_count": 109
        }
      ]
    },
    {
      "cell_type": "code",
      "metadata": {
        "colab": {
          "base_uri": "https://localhost:8080/",
          "height": 312
        },
        "id": "F0J1A79FQ-1R",
        "outputId": "13168e57-7aa5-4910-87a6-aa57e848cb78"
      },
      "source": [
        "x = [1,2,3.08,4.08,5.08]\n",
        "y1 = eig_vectors_yields[0]\n",
        "y2 = eig_vectors_yields[1]\n",
        "y3 = eig_vectors_yields[2]\n",
        "\n",
        "x_new = np.linspace(1, 5.08, 1000)\n",
        "a_BSpline1 = interpolate.make_interp_spline(x, y1)\n",
        "y_new1 = a_BSpline1(x_new)\n",
        "a_BSpline2 = interpolate.make_interp_spline(x, y2)\n",
        "y_new3 = a_BSpline2(x_new)\n",
        "a_BSpline3 = interpolate.make_interp_spline(x, y3)\n",
        "y_new3 = a_BSpline3(x_new)\n",
        "\n",
        "plt.plot(x_new, y_new1)\n",
        "plt.plot(x_new, y_new2)\n",
        "plt.plot(x_new, y_new3)\n",
        "# plt.plot(['1yr','2yr','3.08yr','4.08yr', '5.08yr'], eig_vectors_yields[0])\n",
        "# plt.plot(['1yr','2yr','3.08yr','4.08yr', '5.08yr'], eig_vectors_yields[1])\n",
        "# plt.plot(['1yr','2yr','3.08yr','4.08yr', '5.08yr'], eig_vectors_yields[2])\n",
        "plt.legend([\"1st PC\",\"2nd PC\",\"3rd PC\"],loc='best')\n",
        "plt.xlabel('Time (years)')\n",
        "plt.title('CAD Government Bond YTM curve PCA Analysis')"
      ],
      "execution_count": 138,
      "outputs": [
        {
          "output_type": "execute_result",
          "data": {
            "text/plain": [
              "Text(0.5, 1.0, 'CAD Government Bond YTM curve PCA Analysis')"
            ]
          },
          "metadata": {
            "tags": []
          },
          "execution_count": 138
        },
        {
          "output_type": "display_data",
          "data": {
            "image/png": "[encoded data removed]",
            "text/plain": [
              "<Figure size 432x288 with 1 Axes>"
            ]
          },
          "metadata": {
            "tags": [],
            "needs_background": "light"
          }
        }
      ]
    },
    {
      "cell_type": "code",
      "metadata": {
        "colab": {
          "base_uri": "https://localhost:8080/",
          "height": 312
        },
        "id": "JdalciOO6Oke",
        "outputId": "4ca5bbfd-4c6f-416b-c159-9e3135a84155"
      },
      "source": [
        "plt.plot(['1yr-1yr','1yr-2yr','1yr-3yr','1yr-4yr'], eig_vectors_fwds[0])\n",
        "plt.plot(['1yr-1yr','1yr-2yr','1yr-3yr','1yr-4yr'], eig_vectors_fwds[1])\n",
        "plt.plot(['1yr-1yr','1yr-2yr','1yr-3yr','1yr-4yr'], eig_vectors_fwds[2])\n",
        "plt.legend([\"1st PC\",\"2nd PC\",\"3rd PC\"],loc='best')\n",
        "plt.xlabel('Time (years)')\n",
        "plt.title('1-Year Forward Rate curve PCA Analysis')"
      ],
      "execution_count": 115,
      "outputs": [
        {
          "output_type": "execute_result",
          "data": {
            "text/plain": [
              "Text(0.5, 1.0, '1-Year Forward Rate curve PCA Analysis')"
            ]
          },
          "metadata": {
            "tags": []
          },
          "execution_count": 115
        },
        {
          "output_type": "display_data",
          "data": {
            "image/png": "[encoded data removed]",
            "text/plain": [
              "<Figure size 432x288 with 1 Axes>"
            ]
          },
          "metadata": {
            "tags": [],
            "needs_background": "light"
          }
        }
      ]
    }
  ]
}